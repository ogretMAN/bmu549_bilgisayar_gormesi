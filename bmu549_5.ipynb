{
  "cells": [
    {
      "cell_type": "code",
      "execution_count": 84,
      "metadata": {
        "id": "lRXAt4T1YS29",
        "colab": {
          "base_uri": "https://localhost:8080/",
          "height": 35
        },
        "outputId": "f46613ad-8630-4376-d934-bc9c92c7f70f"
      },
      "outputs": [
        {
          "output_type": "execute_result",
          "data": {
            "text/plain": [
              "'\\nYMT 579 MAKİNE GÖRMESİ / ÖDEV-5\\n\\nÖrnek cNN çalışması\\n\\n@author: Selçuk Sinan KIRAT (No: 211129110)\\n'"
            ],
            "application/vnd.google.colaboratory.intrinsic+json": {
              "type": "string"
            }
          },
          "metadata": {},
          "execution_count": 84
        }
      ],
      "source": [
        "\"\"\"\n",
        "YMT 579 MAKİNE GÖRMESİ / ÖDEV-5\n",
        "\n",
        "Örnek cNN çalışması\n",
        "\n",
        "@author: Selçuk Sinan KIRAT (No: 211129110)\n",
        "\"\"\""
      ]
    },
    {
      "cell_type": "code",
      "execution_count": 85,
      "metadata": {
        "colab": {
          "base_uri": "https://localhost:8080/"
        },
        "id": "VS2H585aPs9_",
        "outputId": "24a1e354-fd34-4f52-97c1-7c608eb3c29c"
      },
      "outputs": [
        {
          "output_type": "stream",
          "name": "stdout",
          "text": [
            "Drive already mounted at /content/drive; to attempt to forcibly remount, call drive.mount(\"/content/drive\", force_remount=True).\n"
          ]
        }
      ],
      "source": [
        "from google.colab import drive\n",
        "drive.mount('/content/drive')"
      ]
    },
    {
      "cell_type": "code",
      "execution_count": 86,
      "metadata": {
        "id": "sa3km0TZpl6_"
      },
      "outputs": [],
      "source": [
        "import matplotlib.pyplot as plt\n",
        "import numpy as np\n",
        "from os import listdir\n",
        "#import PIL\n",
        "import tensorflow as tf\n",
        "\n",
        "from tensorflow import keras\n",
        "from tensorflow.keras import layers\n",
        "from tensorflow.keras.models import Sequential"
      ]
    },
    {
      "cell_type": "code",
      "execution_count": 87,
      "metadata": {
        "id": "n6nO12mzqbkT"
      },
      "outputs": [],
      "source": [
        "# Parametreler ayarlanıyor\n",
        "data_dir = \"/content/drive/My Drive/Piton_Uygulamalarim/raylar\"\n",
        "batch_size = 32\n",
        "img_height = 540\n",
        "img_width = 120"
      ]
    },
    {
      "cell_type": "code",
      "execution_count": 88,
      "metadata": {
        "colab": {
          "base_uri": "https://localhost:8080/"
        },
        "id": "jByPFXplqc7c",
        "outputId": "6208b912-1790-406e-e966-437171bddffe"
      },
      "outputs": [
        {
          "output_type": "stream",
          "name": "stdout",
          "text": [
            "Found 1810 files belonging to 2 classes.\n",
            "Using 1448 files for training.\n"
          ]
        }
      ],
      "source": [
        "# Eğitim Verisi Ayarlanıyor\n",
        "train_ds = tf.keras.utils.image_dataset_from_directory(\n",
        "  data_dir,\n",
        "  validation_split=0.2,\n",
        "  subset=\"training\",\n",
        "  seed=123,\n",
        "  image_size=(img_height, img_width),\n",
        "  batch_size=batch_size)"
      ]
    },
    {
      "cell_type": "code",
      "execution_count": 89,
      "metadata": {
        "colab": {
          "base_uri": "https://localhost:8080/"
        },
        "id": "O8PDqwlVqiQM",
        "outputId": "3def82bf-c795-4e93-e5b2-6570a7cf2676"
      },
      "outputs": [
        {
          "output_type": "stream",
          "name": "stdout",
          "text": [
            "Found 1810 files belonging to 2 classes.\n",
            "Using 362 files for validation.\n"
          ]
        }
      ],
      "source": [
        "# Test Verisi Ayarlanıyor\n",
        "val_ds = tf.keras.utils.image_dataset_from_directory(\n",
        "  data_dir,\n",
        "  validation_split=0.2,\n",
        "  subset=\"validation\",\n",
        "  seed=123,\n",
        "  image_size=(img_height, img_width),\n",
        "  batch_size=batch_size)"
      ]
    },
    {
      "cell_type": "code",
      "execution_count": 90,
      "metadata": {
        "colab": {
          "base_uri": "https://localhost:8080/"
        },
        "id": "MI-X4w4wqk1T",
        "outputId": "18e760a0-77b7-4c43-9eb4-7a2cd58bc9c9"
      },
      "outputs": [
        {
          "output_type": "stream",
          "name": "stdout",
          "text": [
            "['Kirik', 'Saglam']\n"
          ]
        }
      ],
      "source": [
        "# Sınıf İsimleri Sorgulanıyor\n",
        "class_names = train_ds.class_names\n",
        "print(class_names)"
      ]
    },
    {
      "cell_type": "code",
      "execution_count": 91,
      "metadata": {
        "colab": {
          "base_uri": "https://localhost:8080/",
          "height": 319
        },
        "id": "GqQ6HnZ_qpN_",
        "outputId": "f921e17c-8d17-4232-8ca1-3fbe15d57b07"
      },
      "outputs": [
        {
          "output_type": "display_data",
          "data": {
            "text/plain": [
              "<Figure size 360x360 with 6 Axes>"
            ],
            "image/png": "[encoded data removed]"
          },
          "metadata": {
            "needs_background": "light"
          }
        }
      ],
      "source": [
        "# Eğitim verilerinden 6 tanesini görüntüle\n",
        "plt.figure(figsize=(5, 5))\n",
        "for images, labels in train_ds.take(1):\n",
        "  for i in range(6):\n",
        "    ax = plt.subplot(2, 3, i + 1)\n",
        "    plt.imshow(images[i].numpy().astype(\"uint8\"))\n",
        "    plt.title(class_names[labels[i]])\n",
        "    plt.axis(\"off\")"
      ]
    },
    {
      "cell_type": "code",
      "execution_count": 92,
      "metadata": {
        "colab": {
          "base_uri": "https://localhost:8080/"
        },
        "id": "A-LX-eNuq74y",
        "outputId": "bcc2b6a9-9666-493c-e1c1-b1020ade1bda"
      },
      "outputs": [
        {
          "output_type": "stream",
          "name": "stdout",
          "text": [
            "Resim 1'deki en küçük piksel değeri: 0.003921569 en büyük piksel değeri: 0.6862745\n"
          ]
        }
      ],
      "source": [
        "# Verileri Standartlaştırma [0, 1] aralığı\n",
        "normalization_layer = layers.Rescaling(1./255)\n",
        "\n",
        "normalized_ds = train_ds.map(lambda x, y: (normalization_layer(x), y))\n",
        "image_batch, labels_batch = next(iter(normalized_ds))\n",
        "first_image = image_batch[0]\n",
        "\n",
        "print(\"Resim 1'deki en küçük piksel değeri:\", np.min(first_image), \"en büyük piksel değeri:\", np.max(first_image))"
      ]
    },
    {
      "cell_type": "code",
      "execution_count": 93,
      "metadata": {
        "id": "BmFu0Txfh0eU"
      },
      "outputs": [],
      "source": [
        "# Veri örneklerini büyütme\n",
        "data_augmentation = keras.Sequential(\n",
        "  [\n",
        "    layers.RandomFlip(\"horizontal\",\n",
        "                      input_shape=(img_height,\n",
        "                                  img_width,\n",
        "                                  3)),\n",
        "    layers.RandomRotation(0.1),\n",
        "    layers.RandomZoom(0.1),\n",
        "  ]\n",
        ")"
      ]
    },
    {
      "cell_type": "code",
      "execution_count": 94,
      "metadata": {
        "id": "-swgKGWQrMGc"
      },
      "outputs": [],
      "source": [
        "# Modeli Oluşturalım\n",
        "num_classes = len(class_names)\n",
        "\n",
        "model = Sequential([\n",
        "  data_augmentation,\n",
        "  layers.Rescaling(1./255, input_shape=(img_height, img_width, 3)),\n",
        "  layers.Conv2D(16, 3, padding='same', activation='relu'),\n",
        "  layers.MaxPooling2D(),\n",
        "  layers.Conv2D(32, 3, padding='same', activation='relu'),\n",
        "  layers.MaxPooling2D(),\n",
        "  layers.Conv2D(64, 3, padding='same', activation='relu'),\n",
        "  layers.MaxPooling2D(),\n",
        "  layers.Conv2D(128, 3, padding='same', activation='relu'),\n",
        "  layers.MaxPooling2D(),\n",
        "  layers.Dropout(0.15), # Bırakma\n",
        "  layers.Flatten(),\n",
        "  layers.Dense(256, activation='relu'),\n",
        "  layers.Dense(num_classes)\n",
        "])"
      ]
    },
    {
      "cell_type": "code",
      "execution_count": 95,
      "metadata": {
        "id": "SACQrMwYrVX6"
      },
      "outputs": [],
      "source": [
        "# Modeli Derleyelim\n",
        "model.compile(optimizer='Adamax',\n",
        "              loss=tf.keras.losses.SparseCategoricalCrossentropy(from_logits=True),\n",
        "              metrics=['accuracy'])"
      ]
    },
    {
      "cell_type": "code",
      "execution_count": 96,
      "metadata": {
        "colab": {
          "base_uri": "https://localhost:8080/"
        },
        "id": "1pqE9jvJraZl",
        "outputId": "63083a3f-5111-478b-c9d8-b0db1fd2f961"
      },
      "outputs": [
        {
          "output_type": "stream",
          "name": "stdout",
          "text": [
            "Model: \"sequential_13\"\n",
            "_________________________________________________________________\n",
            " Layer (type)                Output Shape              Param #   \n",
            "=================================================================\n",
            " sequential_12 (Sequential)  (None, 540, 120, 3)       0         \n",
            "                                                                 \n",
            " rescaling_13 (Rescaling)    (None, 540, 120, 3)       0         \n",
            "                                                                 \n",
            " conv2d_28 (Conv2D)          (None, 540, 120, 16)      448       \n",
            "                                                                 \n",
            " max_pooling2d_28 (MaxPoolin  (None, 270, 60, 16)      0         \n",
            " g2D)                                                            \n",
            "                                                                 \n",
            " conv2d_29 (Conv2D)          (None, 270, 60, 32)       4640      \n",
            "                                                                 \n",
            " max_pooling2d_29 (MaxPoolin  (None, 135, 30, 32)      0         \n",
            " g2D)                                                            \n",
            "                                                                 \n",
            " conv2d_30 (Conv2D)          (None, 135, 30, 64)       18496     \n",
            "                                                                 \n",
            " max_pooling2d_30 (MaxPoolin  (None, 67, 15, 64)       0         \n",
            " g2D)                                                            \n",
            "                                                                 \n",
            " conv2d_31 (Conv2D)          (None, 67, 15, 128)       73856     \n",
            "                                                                 \n",
            " max_pooling2d_31 (MaxPoolin  (None, 33, 7, 128)       0         \n",
            " g2D)                                                            \n",
            "                                                                 \n",
            " dropout_7 (Dropout)         (None, 33, 7, 128)        0         \n",
            "                                                                 \n",
            " flatten_7 (Flatten)         (None, 29568)             0         \n",
            "                                                                 \n",
            " dense_14 (Dense)            (None, 256)               7569664   \n",
            "                                                                 \n",
            " dense_15 (Dense)            (None, 2)                 514       \n",
            "                                                                 \n",
            "=================================================================\n",
            "Total params: 7,667,618\n",
            "Trainable params: 7,667,618\n",
            "Non-trainable params: 0\n",
            "_________________________________________________________________\n"
          ]
        }
      ],
      "source": [
        "# Model Özet Bilgileri\n",
        "model.summary()"
      ]
    },
    {
      "cell_type": "code",
      "execution_count": 97,
      "metadata": {
        "colab": {
          "base_uri": "https://localhost:8080/"
        },
        "id": "hyXivAxZrfWe",
        "outputId": "5d0d3f40-3a19-4707-b5b5-2e2010d8f375"
      },
      "outputs": [
        {
          "output_type": "stream",
          "name": "stdout",
          "text": [
            "Epoch 1/8\n",
            "46/46 [==============================] - 119s 3s/step - loss: 0.7043 - accuracy: 0.4952 - val_loss: 0.6910 - val_accuracy: 0.4917\n",
            "Epoch 2/8\n",
            "46/46 [==============================] - 119s 3s/step - loss: 0.6915 - accuracy: 0.5041 - val_loss: 0.6891 - val_accuracy: 0.4917\n",
            "Epoch 3/8\n",
            "46/46 [==============================] - 120s 3s/step - loss: 0.6869 - accuracy: 0.5311 - val_loss: 0.6724 - val_accuracy: 0.6547\n",
            "Epoch 4/8\n",
            "46/46 [==============================] - 118s 3s/step - loss: 0.6680 - accuracy: 0.6084 - val_loss: 0.6246 - val_accuracy: 0.7597\n",
            "Epoch 5/8\n",
            "46/46 [==============================] - 118s 3s/step - loss: 0.6327 - accuracy: 0.6533 - val_loss: 0.6839 - val_accuracy: 0.5221\n",
            "Epoch 6/8\n",
            "46/46 [==============================] - 118s 3s/step - loss: 0.6248 - accuracy: 0.6436 - val_loss: 0.5447 - val_accuracy: 0.7818\n",
            "Epoch 7/8\n",
            "46/46 [==============================] - 119s 3s/step - loss: 0.6068 - accuracy: 0.6554 - val_loss: 0.5586 - val_accuracy: 0.7293\n",
            "Epoch 8/8\n",
            "46/46 [==============================] - 118s 3s/step - loss: 0.5420 - accuracy: 0.7279 - val_loss: 0.4879 - val_accuracy: 0.7597\n"
          ]
        }
      ],
      "source": [
        "# Modelin Eğitilmesi\n",
        "epochs=8\n",
        "history = model.fit(\n",
        "  train_ds,\n",
        "  validation_data=val_ds,\n",
        "  epochs=epochs\n",
        ")"
      ]
    },
    {
      "cell_type": "code",
      "execution_count": 98,
      "metadata": {
        "colab": {
          "base_uri": "https://localhost:8080/",
          "height": 390
        },
        "id": "mQb0AZN7rj9a",
        "outputId": "881c3cbd-811e-4d4e-c4ec-e5f3a631e866"
      },
      "outputs": [
        {
          "output_type": "display_data",
          "data": {
            "text/plain": [
              "<Figure size 864x432 with 2 Axes>"
            ],
            "image/png": "[encoded data removed]"
          },
          "metadata": {
            "needs_background": "light"
          }
        }
      ],
      "source": [
        "# Eğitim Sonuçlarının Görselleştirilmesi\n",
        "acc = history.history['accuracy']\n",
        "val_acc = history.history['val_accuracy']\n",
        "\n",
        "loss = history.history['loss']\n",
        "val_loss = history.history['val_loss']\n",
        "\n",
        "epochs_range = range(epochs)\n",
        "\n",
        "plt.figure(figsize=(12, 6))\n",
        "plt.subplot(1, 2, 1)\n",
        "plt.plot(epochs_range, acc, label='Eğitim')\n",
        "plt.plot(epochs_range, val_acc, label='Doğrulama')\n",
        "plt.legend(loc='lower right')\n",
        "plt.title('Eğitim ve Doğrulama Neticesinde Kesinlik')\n",
        "\n",
        "plt.subplot(1, 2, 2)\n",
        "plt.plot(epochs_range, loss, label='Eğitim')\n",
        "plt.plot(epochs_range, val_loss, label='Doğrulama')\n",
        "plt.legend(loc='upper right')\n",
        "plt.title('Eğitim ve Doğrulama Neticesinde Kayıp')\n",
        "plt.show()"
      ]
    },
    {
      "cell_type": "code",
      "execution_count": 99,
      "metadata": {
        "id": "G1RPPdor3sMH"
      },
      "outputs": [],
      "source": [
        "# Yeni ray verilerini tahmin için gerekli fonksiyon hazırlanıyor\n",
        "def tahmin(resim, gercek):\n",
        "  konum = \"/content/drive/My Drive/Piton_Uygulamalarim/test/\"\n",
        "  konum = konum + resim\n",
        "\n",
        "  img = tf.keras.utils.load_img(\n",
        "      konum, target_size=(img_height, img_width)\n",
        "  )\n",
        "  img_array = tf.keras.utils.img_to_array(img)\n",
        "  img_array = tf.expand_dims(img_array, 0) # Create a batch\n",
        "\n",
        "  predictions = model.predict(img_array)\n",
        "  score = tf.nn.softmax(predictions[0])\n",
        "\n",
        "  print(\n",
        "      \"GERÇEK SINIF: {} | TAHMİN EDİLEN: {} . Doğruluk Oranı: %{:.2f}\"\n",
        "      .format(gercek, class_names[np.argmax(score)], 100 * np.max(score))\n",
        "  )"
      ]
    },
    {
      "cell_type": "code",
      "execution_count": 100,
      "metadata": {
        "id": "WpItljOC3v2O",
        "colab": {
          "base_uri": "https://localhost:8080/"
        },
        "outputId": "262e40f0-5adc-42fa-c146-94cade113419"
      },
      "outputs": [
        {
          "output_type": "stream",
          "name": "stdout",
          "text": [
            "1  GERÇEK SINIF: Saglam | TAHMİN EDİLEN: Kirik . Doğruluk Oranı: %87.20\n",
            "2  GERÇEK SINIF: Saglam | TAHMİN EDİLEN: Kirik . Doğruluk Oranı: %88.15\n",
            "3  GERÇEK SINIF: Saglam | TAHMİN EDİLEN: Kirik . Doğruluk Oranı: %79.63\n",
            "4  GERÇEK SINIF: Saglam | TAHMİN EDİLEN: Kirik . Doğruluk Oranı: %84.98\n",
            "5  GERÇEK SINIF: Saglam | TAHMİN EDİLEN: Saglam . Doğruluk Oranı: %77.10\n",
            "6  GERÇEK SINIF: Saglam | TAHMİN EDİLEN: Saglam . Doğruluk Oranı: %82.74\n",
            "7  GERÇEK SINIF: Saglam | TAHMİN EDİLEN: Kirik . Doğruluk Oranı: %52.66\n",
            "8  GERÇEK SINIF: Saglam | TAHMİN EDİLEN: Saglam . Doğruluk Oranı: %83.94\n",
            "9  GERÇEK SINIF: Saglam | TAHMİN EDİLEN: Saglam . Doğruluk Oranı: %70.13\n",
            "10  GERÇEK SINIF: Saglam | TAHMİN EDİLEN: Saglam . Doğruluk Oranı: %65.09\n",
            "11  GERÇEK SINIF: Saglam | TAHMİN EDİLEN: Saglam . Doğruluk Oranı: %83.01\n",
            "12  GERÇEK SINIF: Saglam | TAHMİN EDİLEN: Kirik . Doğruluk Oranı: %52.55\n",
            "13  GERÇEK SINIF: Saglam | TAHMİN EDİLEN: Saglam . Doğruluk Oranı: %53.77\n",
            "14  GERÇEK SINIF: Saglam | TAHMİN EDİLEN: Saglam . Doğruluk Oranı: %59.73\n",
            "15  GERÇEK SINIF: Saglam | TAHMİN EDİLEN: Saglam . Doğruluk Oranı: %71.18\n",
            "16  GERÇEK SINIF: Saglam | TAHMİN EDİLEN: Saglam . Doğruluk Oranı: %65.20\n",
            "17  GERÇEK SINIF: Saglam | TAHMİN EDİLEN: Saglam . Doğruluk Oranı: %60.26\n",
            "18  GERÇEK SINIF: Saglam | TAHMİN EDİLEN: Kirik . Doğruluk Oranı: %78.16\n",
            "19  GERÇEK SINIF: Saglam | TAHMİN EDİLEN: Saglam . Doğruluk Oranı: %59.05\n",
            "20  GERÇEK SINIF: Saglam | TAHMİN EDİLEN: Kirik . Doğruluk Oranı: %90.68\n",
            "21  GERÇEK SINIF: Saglam | TAHMİN EDİLEN: Saglam . Doğruluk Oranı: %55.57\n",
            "22  GERÇEK SINIF: Saglam | TAHMİN EDİLEN: Kirik . Doğruluk Oranı: %77.58\n",
            "23  GERÇEK SINIF: Saglam | TAHMİN EDİLEN: Kirik . Doğruluk Oranı: %51.63\n",
            "24  GERÇEK SINIF: Saglam | TAHMİN EDİLEN: Kirik . Doğruluk Oranı: %57.14\n",
            "25  GERÇEK SINIF: Saglam | TAHMİN EDİLEN: Saglam . Doğruluk Oranı: %54.72\n",
            "26  GERÇEK SINIF: Saglam | TAHMİN EDİLEN: Kirik . Doğruluk Oranı: %53.29\n",
            "27  GERÇEK SINIF: Saglam | TAHMİN EDİLEN: Saglam . Doğruluk Oranı: %71.73\n",
            "28  GERÇEK SINIF: Saglam | TAHMİN EDİLEN: Kirik . Doğruluk Oranı: %51.45\n",
            "29  GERÇEK SINIF: Saglam | TAHMİN EDİLEN: Kirik . Doğruluk Oranı: %60.29\n",
            "30  GERÇEK SINIF: Saglam | TAHMİN EDİLEN: Saglam . Doğruluk Oranı: %83.75\n",
            "31  GERÇEK SINIF: Saglam | TAHMİN EDİLEN: Saglam . Doğruluk Oranı: %60.92\n",
            "32  GERÇEK SINIF: Saglam | TAHMİN EDİLEN: Saglam . Doğruluk Oranı: %70.75\n",
            "33  GERÇEK SINIF: Saglam | TAHMİN EDİLEN: Kirik . Doğruluk Oranı: %84.82\n",
            "34  GERÇEK SINIF: Saglam | TAHMİN EDİLEN: Kirik . Doğruluk Oranı: %75.67\n",
            "35  GERÇEK SINIF: Saglam | TAHMİN EDİLEN: Kirik . Doğruluk Oranı: %69.21\n",
            "36  GERÇEK SINIF: Saglam | TAHMİN EDİLEN: Kirik . Doğruluk Oranı: %78.85\n",
            "37  GERÇEK SINIF: Saglam | TAHMİN EDİLEN: Kirik . Doğruluk Oranı: %79.23\n",
            "38  GERÇEK SINIF: Saglam | TAHMİN EDİLEN: Kirik . Doğruluk Oranı: %54.85\n",
            "39  GERÇEK SINIF: Saglam | TAHMİN EDİLEN: Saglam . Doğruluk Oranı: %85.04\n",
            "40  GERÇEK SINIF: Saglam | TAHMİN EDİLEN: Saglam . Doğruluk Oranı: %55.35\n",
            "41  GERÇEK SINIF: Saglam | TAHMİN EDİLEN: Kirik . Doğruluk Oranı: %70.57\n",
            "42  GERÇEK SINIF: Saglam | TAHMİN EDİLEN: Kirik . Doğruluk Oranı: %57.65\n",
            "43  GERÇEK SINIF: Saglam | TAHMİN EDİLEN: Saglam . Doğruluk Oranı: %51.83\n",
            "44  GERÇEK SINIF: Saglam | TAHMİN EDİLEN: Kirik . Doğruluk Oranı: %62.26\n",
            "45  GERÇEK SINIF: Saglam | TAHMİN EDİLEN: Kirik . Doğruluk Oranı: %86.31\n",
            "46  GERÇEK SINIF: Saglam | TAHMİN EDİLEN: Kirik . Doğruluk Oranı: %80.70\n",
            "47  GERÇEK SINIF: Saglam | TAHMİN EDİLEN: Kirik . Doğruluk Oranı: %51.59\n",
            "48  GERÇEK SINIF: Saglam | TAHMİN EDİLEN: Kirik . Doğruluk Oranı: %71.86\n",
            "49  GERÇEK SINIF: Saglam | TAHMİN EDİLEN: Kirik . Doğruluk Oranı: %75.25\n",
            "50  GERÇEK SINIF: Saglam | TAHMİN EDİLEN: Saglam . Doğruluk Oranı: %80.13\n",
            "51  GERÇEK SINIF: Saglam | TAHMİN EDİLEN: Saglam . Doğruluk Oranı: %91.83\n",
            "52  GERÇEK SINIF: Saglam | TAHMİN EDİLEN: Kirik . Doğruluk Oranı: %67.24\n",
            "53  GERÇEK SINIF: Saglam | TAHMİN EDİLEN: Kirik . Doğruluk Oranı: %65.97\n",
            "54  GERÇEK SINIF: Saglam | TAHMİN EDİLEN: Kirik . Doğruluk Oranı: %72.15\n",
            "55  GERÇEK SINIF: Saglam | TAHMİN EDİLEN: Saglam . Doğruluk Oranı: %88.50\n",
            "56  GERÇEK SINIF: Saglam | TAHMİN EDİLEN: Kirik . Doğruluk Oranı: %62.98\n",
            "57  GERÇEK SINIF: Saglam | TAHMİN EDİLEN: Kirik . Doğruluk Oranı: %59.51\n",
            "58  GERÇEK SINIF: Saglam | TAHMİN EDİLEN: Saglam . Doğruluk Oranı: %50.99\n",
            "59  GERÇEK SINIF: Saglam | TAHMİN EDİLEN: Kirik . Doğruluk Oranı: %50.89\n",
            "60  GERÇEK SINIF: Saglam | TAHMİN EDİLEN: Saglam . Doğruluk Oranı: %93.98\n",
            "61  GERÇEK SINIF: Saglam | TAHMİN EDİLEN: Saglam . Doğruluk Oranı: %57.27\n",
            "62  GERÇEK SINIF: Saglam | TAHMİN EDİLEN: Saglam . Doğruluk Oranı: %71.73\n",
            "63  GERÇEK SINIF: Saglam | TAHMİN EDİLEN: Saglam . Doğruluk Oranı: %77.93\n",
            "64  GERÇEK SINIF: Saglam | TAHMİN EDİLEN: Saglam . Doğruluk Oranı: %69.43\n",
            "65  GERÇEK SINIF: Saglam | TAHMİN EDİLEN: Saglam . Doğruluk Oranı: %57.29\n",
            "66  GERÇEK SINIF: Saglam | TAHMİN EDİLEN: Kirik . Doğruluk Oranı: %90.60\n",
            "67  GERÇEK SINIF: Saglam | TAHMİN EDİLEN: Saglam . Doğruluk Oranı: %97.93\n",
            "68  GERÇEK SINIF: Saglam | TAHMİN EDİLEN: Saglam . Doğruluk Oranı: %88.17\n",
            "69  GERÇEK SINIF: Saglam | TAHMİN EDİLEN: Kirik . Doğruluk Oranı: %58.23\n",
            "70  GERÇEK SINIF: Saglam | TAHMİN EDİLEN: Saglam . Doğruluk Oranı: %97.31\n",
            "71  GERÇEK SINIF: Saglam | TAHMİN EDİLEN: Saglam . Doğruluk Oranı: %81.29\n",
            "72  GERÇEK SINIF: Saglam | TAHMİN EDİLEN: Saglam . Doğruluk Oranı: %80.95\n",
            "73  GERÇEK SINIF: Saglam | TAHMİN EDİLEN: Kirik . Doğruluk Oranı: %79.59\n",
            "74  GERÇEK SINIF: Saglam | TAHMİN EDİLEN: Saglam . Doğruluk Oranı: %74.11\n",
            "75  GERÇEK SINIF: Saglam | TAHMİN EDİLEN: Saglam . Doğruluk Oranı: %77.61\n",
            "76  GERÇEK SINIF: Saglam | TAHMİN EDİLEN: Saglam . Doğruluk Oranı: %84.84\n",
            "77  GERÇEK SINIF: Saglam | TAHMİN EDİLEN: Kirik . Doğruluk Oranı: %56.07\n",
            "78  GERÇEK SINIF: Saglam | TAHMİN EDİLEN: Saglam . Doğruluk Oranı: %52.38\n",
            "79  GERÇEK SINIF: Saglam | TAHMİN EDİLEN: Saglam . Doğruluk Oranı: %82.22\n",
            "80  GERÇEK SINIF: Saglam | TAHMİN EDİLEN: Saglam . Doğruluk Oranı: %53.02\n",
            "81  GERÇEK SINIF: Saglam | TAHMİN EDİLEN: Saglam . Doğruluk Oranı: %68.27\n",
            "82  GERÇEK SINIF: Saglam | TAHMİN EDİLEN: Kirik . Doğruluk Oranı: %77.14\n",
            "83  GERÇEK SINIF: Saglam | TAHMİN EDİLEN: Kirik . Doğruluk Oranı: %64.85\n",
            "84  GERÇEK SINIF: Saglam | TAHMİN EDİLEN: Saglam . Doğruluk Oranı: %83.19\n",
            "85  GERÇEK SINIF: Saglam | TAHMİN EDİLEN: Kirik . Doğruluk Oranı: %75.42\n",
            "86  GERÇEK SINIF: Saglam | TAHMİN EDİLEN: Saglam . Doğruluk Oranı: %56.02\n",
            "87  GERÇEK SINIF: Saglam | TAHMİN EDİLEN: Kirik . Doğruluk Oranı: %76.12\n",
            "88  GERÇEK SINIF: Saglam | TAHMİN EDİLEN: Saglam . Doğruluk Oranı: %78.42\n",
            "89  GERÇEK SINIF: Saglam | TAHMİN EDİLEN: Saglam . Doğruluk Oranı: %84.26\n",
            "90  GERÇEK SINIF: Saglam | TAHMİN EDİLEN: Kirik . Doğruluk Oranı: %66.95\n",
            "91  GERÇEK SINIF: Saglam | TAHMİN EDİLEN: Saglam . Doğruluk Oranı: %59.45\n",
            "------------------------------------------------------------------------------------------\n",
            "1  GERÇEK SINIF: Kirik | TAHMİN EDİLEN: Kirik . Doğruluk Oranı: %86.04\n",
            "2  GERÇEK SINIF: Kirik | TAHMİN EDİLEN: Kirik . Doğruluk Oranı: %53.48\n",
            "3  GERÇEK SINIF: Kirik | TAHMİN EDİLEN: Kirik . Doğruluk Oranı: %94.77\n",
            "4  GERÇEK SINIF: Kirik | TAHMİN EDİLEN: Kirik . Doğruluk Oranı: %92.16\n",
            "5  GERÇEK SINIF: Kirik | TAHMİN EDİLEN: Saglam . Doğruluk Oranı: %55.15\n",
            "6  GERÇEK SINIF: Kirik | TAHMİN EDİLEN: Saglam . Doğruluk Oranı: %58.84\n",
            "7  GERÇEK SINIF: Kirik | TAHMİN EDİLEN: Saglam . Doğruluk Oranı: %58.04\n",
            "8  GERÇEK SINIF: Kirik | TAHMİN EDİLEN: Kirik . Doğruluk Oranı: %57.33\n",
            "9  GERÇEK SINIF: Kirik | TAHMİN EDİLEN: Saglam . Doğruluk Oranı: %73.73\n",
            "10  GERÇEK SINIF: Kirik | TAHMİN EDİLEN: Kirik . Doğruluk Oranı: %71.31\n",
            "11  GERÇEK SINIF: Kirik | TAHMİN EDİLEN: Saglam . Doğruluk Oranı: %54.07\n",
            "12  GERÇEK SINIF: Kirik | TAHMİN EDİLEN: Kirik . Doğruluk Oranı: %79.03\n",
            "13  GERÇEK SINIF: Kirik | TAHMİN EDİLEN: Kirik . Doğruluk Oranı: %90.69\n",
            "14  GERÇEK SINIF: Kirik | TAHMİN EDİLEN: Kirik . Doğruluk Oranı: %89.16\n",
            "15  GERÇEK SINIF: Kirik | TAHMİN EDİLEN: Saglam . Doğruluk Oranı: %69.39\n",
            "16  GERÇEK SINIF: Kirik | TAHMİN EDİLEN: Saglam . Doğruluk Oranı: %65.30\n",
            "17  GERÇEK SINIF: Kirik | TAHMİN EDİLEN: Kirik . Doğruluk Oranı: %86.84\n",
            "18  GERÇEK SINIF: Kirik | TAHMİN EDİLEN: Saglam . Doğruluk Oranı: %65.82\n",
            "19  GERÇEK SINIF: Kirik | TAHMİN EDİLEN: Kirik . Doğruluk Oranı: %54.45\n",
            "20  GERÇEK SINIF: Kirik | TAHMİN EDİLEN: Kirik . Doğruluk Oranı: %79.04\n",
            "21  GERÇEK SINIF: Kirik | TAHMİN EDİLEN: Kirik . Doğruluk Oranı: %92.32\n",
            "22  GERÇEK SINIF: Kirik | TAHMİN EDİLEN: Kirik . Doğruluk Oranı: %71.56\n",
            "23  GERÇEK SINIF: Kirik | TAHMİN EDİLEN: Kirik . Doğruluk Oranı: %78.62\n",
            "24  GERÇEK SINIF: Kirik | TAHMİN EDİLEN: Kirik . Doğruluk Oranı: %85.92\n",
            "25  GERÇEK SINIF: Kirik | TAHMİN EDİLEN: Kirik . Doğruluk Oranı: %92.66\n",
            "26  GERÇEK SINIF: Kirik | TAHMİN EDİLEN: Kirik . Doğruluk Oranı: %81.39\n",
            "27  GERÇEK SINIF: Kirik | TAHMİN EDİLEN: Kirik . Doğruluk Oranı: %91.15\n",
            "28  GERÇEK SINIF: Kirik | TAHMİN EDİLEN: Kirik . Doğruluk Oranı: %83.02\n",
            "29  GERÇEK SINIF: Kirik | TAHMİN EDİLEN: Kirik . Doğruluk Oranı: %89.74\n",
            "30  GERÇEK SINIF: Kirik | TAHMİN EDİLEN: Kirik . Doğruluk Oranı: %95.41\n",
            "31  GERÇEK SINIF: Kirik | TAHMİN EDİLEN: Kirik . Doğruluk Oranı: %60.33\n",
            "32  GERÇEK SINIF: Kirik | TAHMİN EDİLEN: Kirik . Doğruluk Oranı: %61.76\n",
            "33  GERÇEK SINIF: Kirik | TAHMİN EDİLEN: Kirik . Doğruluk Oranı: %83.99\n",
            "34  GERÇEK SINIF: Kirik | TAHMİN EDİLEN: Kirik . Doğruluk Oranı: %78.94\n",
            "35  GERÇEK SINIF: Kirik | TAHMİN EDİLEN: Kirik . Doğruluk Oranı: %53.03\n",
            "36  GERÇEK SINIF: Kirik | TAHMİN EDİLEN: Kirik . Doğruluk Oranı: %69.22\n",
            "37  GERÇEK SINIF: Kirik | TAHMİN EDİLEN: Saglam . Doğruluk Oranı: %53.77\n",
            "38  GERÇEK SINIF: Kirik | TAHMİN EDİLEN: Kirik . Doğruluk Oranı: %59.86\n",
            "39  GERÇEK SINIF: Kirik | TAHMİN EDİLEN: Kirik . Doğruluk Oranı: %67.66\n",
            "40  GERÇEK SINIF: Kirik | TAHMİN EDİLEN: Saglam . Doğruluk Oranı: %63.82\n",
            "41  GERÇEK SINIF: Kirik | TAHMİN EDİLEN: Kirik . Doğruluk Oranı: %66.26\n",
            "42  GERÇEK SINIF: Kirik | TAHMİN EDİLEN: Kirik . Doğruluk Oranı: %55.93\n",
            "43  GERÇEK SINIF: Kirik | TAHMİN EDİLEN: Kirik . Doğruluk Oranı: %81.34\n",
            "44  GERÇEK SINIF: Kirik | TAHMİN EDİLEN: Kirik . Doğruluk Oranı: %72.66\n",
            "45  GERÇEK SINIF: Kirik | TAHMİN EDİLEN: Saglam . Doğruluk Oranı: %72.13\n",
            "46  GERÇEK SINIF: Kirik | TAHMİN EDİLEN: Kirik . Doğruluk Oranı: %71.16\n",
            "47  GERÇEK SINIF: Kirik | TAHMİN EDİLEN: Kirik . Doğruluk Oranı: %79.38\n",
            "48  GERÇEK SINIF: Kirik | TAHMİN EDİLEN: Kirik . Doğruluk Oranı: %82.55\n",
            "49  GERÇEK SINIF: Kirik | TAHMİN EDİLEN: Kirik . Doğruluk Oranı: %80.91\n",
            "50  GERÇEK SINIF: Kirik | TAHMİN EDİLEN: Kirik . Doğruluk Oranı: %89.20\n",
            "51  GERÇEK SINIF: Kirik | TAHMİN EDİLEN: Kirik . Doğruluk Oranı: %88.93\n",
            "52  GERÇEK SINIF: Kirik | TAHMİN EDİLEN: Kirik . Doğruluk Oranı: %90.62\n",
            "53  GERÇEK SINIF: Kirik | TAHMİN EDİLEN: Kirik . Doğruluk Oranı: %88.70\n",
            "54  GERÇEK SINIF: Kirik | TAHMİN EDİLEN: Kirik . Doğruluk Oranı: %85.93\n",
            "55  GERÇEK SINIF: Kirik | TAHMİN EDİLEN: Kirik . Doğruluk Oranı: %87.14\n",
            "56  GERÇEK SINIF: Kirik | TAHMİN EDİLEN: Kirik . Doğruluk Oranı: %88.19\n",
            "57  GERÇEK SINIF: Kirik | TAHMİN EDİLEN: Kirik . Doğruluk Oranı: %89.16\n",
            "58  GERÇEK SINIF: Kirik | TAHMİN EDİLEN: Kirik . Doğruluk Oranı: %88.28\n",
            "59  GERÇEK SINIF: Kirik | TAHMİN EDİLEN: Kirik . Doğruluk Oranı: %89.61\n",
            "60  GERÇEK SINIF: Kirik | TAHMİN EDİLEN: Kirik . Doğruluk Oranı: %82.25\n",
            "61  GERÇEK SINIF: Kirik | TAHMİN EDİLEN: Kirik . Doğruluk Oranı: %76.28\n",
            "62  GERÇEK SINIF: Kirik | TAHMİN EDİLEN: Kirik . Doğruluk Oranı: %90.45\n",
            "63  GERÇEK SINIF: Kirik | TAHMİN EDİLEN: Kirik . Doğruluk Oranı: %80.20\n",
            "64  GERÇEK SINIF: Kirik | TAHMİN EDİLEN: Kirik . Doğruluk Oranı: %81.94\n",
            "65  GERÇEK SINIF: Kirik | TAHMİN EDİLEN: Kirik . Doğruluk Oranı: %87.22\n",
            "66  GERÇEK SINIF: Kirik | TAHMİN EDİLEN: Kirik . Doğruluk Oranı: %81.89\n",
            "67  GERÇEK SINIF: Kirik | TAHMİN EDİLEN: Kirik . Doğruluk Oranı: %76.85\n",
            "68  GERÇEK SINIF: Kirik | TAHMİN EDİLEN: Kirik . Doğruluk Oranı: %86.94\n",
            "69  GERÇEK SINIF: Kirik | TAHMİN EDİLEN: Kirik . Doğruluk Oranı: %59.28\n",
            "70  GERÇEK SINIF: Kirik | TAHMİN EDİLEN: Kirik . Doğruluk Oranı: %89.25\n",
            "71  GERÇEK SINIF: Kirik | TAHMİN EDİLEN: Kirik . Doğruluk Oranı: %74.02\n",
            "72  GERÇEK SINIF: Kirik | TAHMİN EDİLEN: Kirik . Doğruluk Oranı: %89.15\n",
            "73  GERÇEK SINIF: Kirik | TAHMİN EDİLEN: Kirik . Doğruluk Oranı: %86.45\n",
            "74  GERÇEK SINIF: Kirik | TAHMİN EDİLEN: Kirik . Doğruluk Oranı: %83.75\n",
            "75  GERÇEK SINIF: Kirik | TAHMİN EDİLEN: Kirik . Doğruluk Oranı: %77.83\n",
            "76  GERÇEK SINIF: Kirik | TAHMİN EDİLEN: Kirik . Doğruluk Oranı: %89.81\n",
            "77  GERÇEK SINIF: Kirik | TAHMİN EDİLEN: Kirik . Doğruluk Oranı: %86.19\n",
            "78  GERÇEK SINIF: Kirik | TAHMİN EDİLEN: Kirik . Doğruluk Oranı: %80.02\n",
            "79  GERÇEK SINIF: Kirik | TAHMİN EDİLEN: Kirik . Doğruluk Oranı: %82.43\n",
            "80  GERÇEK SINIF: Kirik | TAHMİN EDİLEN: Kirik . Doğruluk Oranı: %88.43\n",
            "81  GERÇEK SINIF: Kirik | TAHMİN EDİLEN: Kirik . Doğruluk Oranı: %79.41\n",
            "82  GERÇEK SINIF: Kirik | TAHMİN EDİLEN: Saglam . Doğruluk Oranı: %58.03\n",
            "83  GERÇEK SINIF: Kirik | TAHMİN EDİLEN: Kirik . Doğruluk Oranı: %77.97\n",
            "84  GERÇEK SINIF: Kirik | TAHMİN EDİLEN: Kirik . Doğruluk Oranı: %84.98\n",
            "85  GERÇEK SINIF: Kirik | TAHMİN EDİLEN: Saglam . Doğruluk Oranı: %61.00\n",
            "86  GERÇEK SINIF: Kirik | TAHMİN EDİLEN: Kirik . Doğruluk Oranı: %87.74\n",
            "87  GERÇEK SINIF: Kirik | TAHMİN EDİLEN: Kirik . Doğruluk Oranı: %80.00\n",
            "88  GERÇEK SINIF: Kirik | TAHMİN EDİLEN: Saglam . Doğruluk Oranı: %67.78\n",
            "89  GERÇEK SINIF: Kirik | TAHMİN EDİLEN: Saglam . Doğruluk Oranı: %69.24\n",
            "90  GERÇEK SINIF: Kirik | TAHMİN EDİLEN: Saglam . Doğruluk Oranı: %58.75\n",
            "91  GERÇEK SINIF: Kirik | TAHMİN EDİLEN: Kirik . Doğruluk Oranı: %51.03\n",
            "92  GERÇEK SINIF: Kirik | TAHMİN EDİLEN: Kirik . Doğruluk Oranı: %76.67\n",
            "93  GERÇEK SINIF: Kirik | TAHMİN EDİLEN: Kirik . Doğruluk Oranı: %51.16\n",
            "94  GERÇEK SINIF: Kirik | TAHMİN EDİLEN: Kirik . Doğruluk Oranı: %83.86\n",
            "95  GERÇEK SINIF: Kirik | TAHMİN EDİLEN: Kirik . Doğruluk Oranı: %81.54\n",
            "96  GERÇEK SINIF: Kirik | TAHMİN EDİLEN: Kirik . Doğruluk Oranı: %84.48\n",
            "97  GERÇEK SINIF: Kirik | TAHMİN EDİLEN: Kirik . Doğruluk Oranı: %82.22\n",
            "98  GERÇEK SINIF: Kirik | TAHMİN EDİLEN: Kirik . Doğruluk Oranı: %94.30\n",
            "99  GERÇEK SINIF: Kirik | TAHMİN EDİLEN: Kirik . Doğruluk Oranı: %58.59\n"
          ]
        }
      ],
      "source": [
        "# Test klasöründeki tüm dosyaları okuyup tahmin edelim...\n",
        "saglam_test_imgeleri = listdir(\"/content/drive/My Drive/Piton_Uygulamalarim/test/t_saglam/\")\n",
        "kirik_test_imgeleri = listdir(\"/content/drive/My Drive/Piton_Uygulamalarim/test/t_kirik/\")\n",
        "\n",
        "sSay = kSay = 1\n",
        "\n",
        "for s_img in saglam_test_imgeleri:\n",
        "  print(sSay, \" \", end=\"\")\n",
        "  tahmin(\"t_saglam/\" + s_img, \"Saglam\")\n",
        "  sSay += 1\n",
        "\n",
        "print(90 * \"-\")\n",
        "\n",
        "for k_img in kirik_test_imgeleri:\n",
        "  print(kSay, \" \", end=\"\")\n",
        "  tahmin(\"t_kirik/\" + k_img, \"Kirik\")\n",
        "  kSay += 1\n",
        "\n"
      ]
    },
    {
      "cell_type": "code",
      "execution_count": null,
      "metadata": {
        "id": "WF1wm5lm7hf_"
      },
      "outputs": [],
      "source": [
        ""
      ]
    }
  ],
  "metadata": {
    "colab": {
      "collapsed_sections": [],
      "name": "ymt579_final.ipynb",
      "provenance": []
    },
    "kernelspec": {
      "display_name": "Python 3",
      "name": "python3"
    },
    "language_info": {
      "name": "python"
    }
  },
  "nbformat": 4,
  "nbformat_minor": 0
}