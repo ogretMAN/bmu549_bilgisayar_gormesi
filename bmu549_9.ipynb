{
  "cells": [
    {
      "cell_type": "code",
      "execution_count": 101,
      "metadata": {
        "id": "lRXAt4T1YS29",
        "colab": {
          "base_uri": "https://localhost:8080/",
          "height": 35
        },
        "outputId": "5be584ff-67ed-4cf6-9ae9-d111c5b149b8"
      },
      "outputs": [
        {
          "output_type": "execute_result",
          "data": {
            "text/plain": [
              "'\\nYMT 579 MAKİNE GÖRMESİ / ÖDEV-5\\n\\nÖrnek cNN çalışması\\n\\n@author: Selçuk Sinan KIRAT (No: 211129110)\\n'"
            ],
            "application/vnd.google.colaboratory.intrinsic+json": {
              "type": "string"
            }
          },
          "metadata": {},
          "execution_count": 101
        }
      ],
      "source": [
        "\"\"\"\n",
        "YMT 579 MAKİNE GÖRMESİ / ÖDEV-5\n",
        "\n",
        "Örnek cNN çalışması\n",
        "\n",
        "@author: Selçuk Sinan KIRAT (No: 211129110)\n",
        "\"\"\""
      ]
    },
    {
      "cell_type": "code",
      "execution_count": 102,
      "metadata": {
        "colab": {
          "base_uri": "https://localhost:8080/"
        },
        "id": "VS2H585aPs9_",
        "outputId": "3f2dbebd-86c3-4191-9b5e-b07aa3e8885f"
      },
      "outputs": [
        {
          "output_type": "stream",
          "name": "stdout",
          "text": [
            "Drive already mounted at /content/drive; to attempt to forcibly remount, call drive.mount(\"/content/drive\", force_remount=True).\n"
          ]
        }
      ],
      "source": [
        "from google.colab import drive\n",
        "drive.mount('/content/drive')"
      ]
    },
    {
      "cell_type": "code",
      "execution_count": 103,
      "metadata": {
        "id": "sa3km0TZpl6_"
      },
      "outputs": [],
      "source": [
        "import matplotlib.pyplot as plt\n",
        "import numpy as np\n",
        "from os import listdir\n",
        "#import PIL\n",
        "import tensorflow as tf\n",
        "\n",
        "from tensorflow import keras\n",
        "from tensorflow.keras import layers\n",
        "from tensorflow.keras.models import Sequential"
      ]
    },
    {
      "cell_type": "code",
      "execution_count": 104,
      "metadata": {
        "id": "n6nO12mzqbkT"
      },
      "outputs": [],
      "source": [
        "# Parametreler ayarlanıyor\n",
        "data_dir = \"/content/drive/My Drive/Piton_Uygulamalarim/raylar\"\n",
        "batch_size = 32\n",
        "img_height = 540\n",
        "img_width = 120"
      ]
    },
    {
      "cell_type": "code",
      "execution_count": 105,
      "metadata": {
        "colab": {
          "base_uri": "https://localhost:8080/"
        },
        "id": "jByPFXplqc7c",
        "outputId": "dcfadcb6-6ea2-472f-b4c3-e8931e23244b"
      },
      "outputs": [
        {
          "output_type": "stream",
          "name": "stdout",
          "text": [
            "Found 1810 files belonging to 2 classes.\n",
            "Using 1448 files for training.\n"
          ]
        }
      ],
      "source": [
        "# Eğitim Verisi Ayarlanıyor\n",
        "train_ds = tf.keras.utils.image_dataset_from_directory(\n",
        "  data_dir,\n",
        "  validation_split=0.2,\n",
        "  subset=\"training\",\n",
        "  seed=123,\n",
        "  image_size=(img_height, img_width),\n",
        "  batch_size=batch_size)"
      ]
    },
    {
      "cell_type": "code",
      "execution_count": 106,
      "metadata": {
        "colab": {
          "base_uri": "https://localhost:8080/"
        },
        "id": "O8PDqwlVqiQM",
        "outputId": "1ff75627-bed9-4bb4-be3f-b7eb3297e445"
      },
      "outputs": [
        {
          "output_type": "stream",
          "name": "stdout",
          "text": [
            "Found 1810 files belonging to 2 classes.\n",
            "Using 362 files for validation.\n"
          ]
        }
      ],
      "source": [
        "# Test Verisi Ayarlanıyor\n",
        "val_ds = tf.keras.utils.image_dataset_from_directory(\n",
        "  data_dir,\n",
        "  validation_split=0.2,\n",
        "  subset=\"validation\",\n",
        "  seed=123,\n",
        "  image_size=(img_height, img_width),\n",
        "  batch_size=batch_size)"
      ]
    },
    {
      "cell_type": "code",
      "execution_count": 107,
      "metadata": {
        "colab": {
          "base_uri": "https://localhost:8080/"
        },
        "id": "MI-X4w4wqk1T",
        "outputId": "ac0400ea-3899-4ef6-97eb-ffc556035d06"
      },
      "outputs": [
        {
          "output_type": "stream",
          "name": "stdout",
          "text": [
            "['Kirik', 'Saglam']\n"
          ]
        }
      ],
      "source": [
        "# Sınıf İsimleri Sorgulanıyor\n",
        "class_names = train_ds.class_names\n",
        "print(class_names)"
      ]
    },
    {
      "cell_type": "code",
      "execution_count": 108,
      "metadata": {
        "colab": {
          "base_uri": "https://localhost:8080/",
          "height": 319
        },
        "id": "GqQ6HnZ_qpN_",
        "outputId": "cf2448f4-d1a6-4597-9c38-add5572e1466"
      },
      "outputs": [
        {
          "output_type": "display_data",
          "data": {
            "text/plain": [
              "<Figure size 360x360 with 6 Axes>"
            ],
            "image/png": "[encoded data removed]"
          },
          "metadata": {
            "needs_background": "light"
          }
        }
      ],
      "source": [
        "# Eğitim verilerinden 6 tanesini görüntüle\n",
        "plt.figure(figsize=(5, 5))\n",
        "for images, labels in train_ds.take(1):\n",
        "  for i in range(6):\n",
        "    ax = plt.subplot(2, 3, i + 1)\n",
        "    plt.imshow(images[i].numpy().astype(\"uint8\"))\n",
        "    plt.title(class_names[labels[i]])\n",
        "    plt.axis(\"off\")"
      ]
    },
    {
      "cell_type": "code",
      "execution_count": 109,
      "metadata": {
        "colab": {
          "base_uri": "https://localhost:8080/"
        },
        "id": "A-LX-eNuq74y",
        "outputId": "c3990791-8828-434c-dd17-9ca2d4379e72"
      },
      "outputs": [
        {
          "output_type": "stream",
          "name": "stdout",
          "text": [
            "Resim 1'deki en küçük piksel değeri: 0.003921569 en büyük piksel değeri: 0.6862745\n"
          ]
        }
      ],
      "source": [
        "# Verileri Standartlaştırma [0, 1] aralığı\n",
        "normalization_layer = layers.Rescaling(1./255)\n",
        "\n",
        "normalized_ds = train_ds.map(lambda x, y: (normalization_layer(x), y))\n",
        "image_batch, labels_batch = next(iter(normalized_ds))\n",
        "first_image = image_batch[0]\n",
        "\n",
        "print(\"Resim 1'deki en küçük piksel değeri:\", np.min(first_image), \"en büyük piksel değeri:\", np.max(first_image))"
      ]
    },
    {
      "cell_type": "code",
      "execution_count": 110,
      "metadata": {
        "id": "BmFu0Txfh0eU"
      },
      "outputs": [],
      "source": [
        "# Veri örneklerini büyütme\n",
        "data_augmentation = keras.Sequential(\n",
        "  [\n",
        "    layers.RandomFlip(\"horizontal\",\n",
        "                      input_shape=(img_height,\n",
        "                                  img_width,\n",
        "                                  3)),\n",
        "    layers.RandomRotation(0.1),\n",
        "    layers.RandomZoom(0.1),\n",
        "  ]\n",
        ")"
      ]
    },
    {
      "cell_type": "code",
      "execution_count": 111,
      "metadata": {
        "id": "-swgKGWQrMGc"
      },
      "outputs": [],
      "source": [
        "# Modeli Oluşturalım\n",
        "num_classes = len(class_names)\n",
        "\n",
        "model = Sequential([\n",
        "  data_augmentation,\n",
        "  layers.Rescaling(1./255, input_shape=(img_height, img_width, 3)),\n",
        "  layers.Conv2D(16, 3, padding='same', activation='relu'),\n",
        "  layers.MaxPooling2D(),\n",
        "  layers.Conv2D(32, 3, padding='same', activation='relu'),\n",
        "  layers.MaxPooling2D(),\n",
        "  layers.Conv2D(64, 3, padding='same', activation='relu'),\n",
        "  layers.MaxPooling2D(),\n",
        "  layers.Conv2D(128, 3, padding='same', activation='relu'),\n",
        "  layers.MaxPooling2D(),\n",
        "  layers.Dropout(0.15), # Bırakma\n",
        "  layers.Flatten(),\n",
        "  layers.Dense(256, activation='relu'),\n",
        "  layers.Dense(num_classes)\n",
        "])"
      ]
    },
    {
      "cell_type": "code",
      "execution_count": 112,
      "metadata": {
        "id": "SACQrMwYrVX6"
      },
      "outputs": [],
      "source": [
        "# Modeli Derleyelim\n",
        "model.compile(optimizer='Adamax',\n",
        "              loss=tf.keras.losses.SparseCategoricalCrossentropy(from_logits=True),\n",
        "              metrics=['accuracy'])"
      ]
    },
    {
      "cell_type": "code",
      "execution_count": 113,
      "metadata": {
        "colab": {
          "base_uri": "https://localhost:8080/"
        },
        "id": "1pqE9jvJraZl",
        "outputId": "b003e961-39fd-4bd6-dd2b-048f9edf2dbc"
      },
      "outputs": [
        {
          "output_type": "stream",
          "name": "stdout",
          "text": [
            "Model: \"sequential_15\"\n",
            "_________________________________________________________________\n",
            " Layer (type)                Output Shape              Param #   \n",
            "=================================================================\n",
            " sequential_14 (Sequential)  (None, 540, 120, 3)       0         \n",
            "                                                                 \n",
            " rescaling_15 (Rescaling)    (None, 540, 120, 3)       0         \n",
            "                                                                 \n",
            " conv2d_32 (Conv2D)          (None, 540, 120, 16)      448       \n",
            "                                                                 \n",
            " max_pooling2d_32 (MaxPoolin  (None, 270, 60, 16)      0         \n",
            " g2D)                                                            \n",
            "                                                                 \n",
            " conv2d_33 (Conv2D)          (None, 270, 60, 32)       4640      \n",
            "                                                                 \n",
            " max_pooling2d_33 (MaxPoolin  (None, 135, 30, 32)      0         \n",
            " g2D)                                                            \n",
            "                                                                 \n",
            " conv2d_34 (Conv2D)          (None, 135, 30, 64)       18496     \n",
            "                                                                 \n",
            " max_pooling2d_34 (MaxPoolin  (None, 67, 15, 64)       0         \n",
            " g2D)                                                            \n",
            "                                                                 \n",
            " conv2d_35 (Conv2D)          (None, 67, 15, 128)       73856     \n",
            "                                                                 \n",
            " max_pooling2d_35 (MaxPoolin  (None, 33, 7, 128)       0         \n",
            " g2D)                                                            \n",
            "                                                                 \n",
            " dropout_8 (Dropout)         (None, 33, 7, 128)        0         \n",
            "                                                                 \n",
            " flatten_8 (Flatten)         (None, 29568)             0         \n",
            "                                                                 \n",
            " dense_16 (Dense)            (None, 256)               7569664   \n",
            "                                                                 \n",
            " dense_17 (Dense)            (None, 2)                 514       \n",
            "                                                                 \n",
            "=================================================================\n",
            "Total params: 7,667,618\n",
            "Trainable params: 7,667,618\n",
            "Non-trainable params: 0\n",
            "_________________________________________________________________\n"
          ]
        }
      ],
      "source": [
        "# Model Özet Bilgileri\n",
        "model.summary()"
      ]
    },
    {
      "cell_type": "code",
      "execution_count": 114,
      "metadata": {
        "colab": {
          "base_uri": "https://localhost:8080/"
        },
        "id": "hyXivAxZrfWe",
        "outputId": "6fe783f4-f7df-4a20-b965-5ed34f9cc45f"
      },
      "outputs": [
        {
          "output_type": "stream",
          "name": "stdout",
          "text": [
            "Epoch 1/9\n",
            "46/46 [==============================] - 126s 3s/step - loss: 0.7247 - accuracy: 0.5014 - val_loss: 0.6921 - val_accuracy: 0.5552\n",
            "Epoch 2/9\n",
            "46/46 [==============================] - 123s 3s/step - loss: 0.6917 - accuracy: 0.5407 - val_loss: 0.6894 - val_accuracy: 0.5249\n",
            "Epoch 3/9\n",
            "46/46 [==============================] - 122s 3s/step - loss: 0.6871 - accuracy: 0.5490 - val_loss: 0.6772 - val_accuracy: 0.7099\n",
            "Epoch 4/9\n",
            "46/46 [==============================] - 122s 3s/step - loss: 0.6702 - accuracy: 0.6160 - val_loss: 0.6322 - val_accuracy: 0.7652\n",
            "Epoch 5/9\n",
            "46/46 [==============================] - 121s 3s/step - loss: 0.6206 - accuracy: 0.6816 - val_loss: 0.6485 - val_accuracy: 0.5773\n",
            "Epoch 6/9\n",
            "46/46 [==============================] - 120s 3s/step - loss: 0.6139 - accuracy: 0.6623 - val_loss: 0.5456 - val_accuracy: 0.7569\n",
            "Epoch 7/9\n",
            "46/46 [==============================] - 120s 3s/step - loss: 0.5977 - accuracy: 0.6761 - val_loss: 0.5145 - val_accuracy: 0.7873\n",
            "Epoch 8/9\n",
            "46/46 [==============================] - 120s 3s/step - loss: 0.5441 - accuracy: 0.7348 - val_loss: 0.4743 - val_accuracy: 0.7873\n",
            "Epoch 9/9\n",
            "46/46 [==============================] - 120s 3s/step - loss: 0.5517 - accuracy: 0.7286 - val_loss: 0.5000 - val_accuracy: 0.7486\n"
          ]
        }
      ],
      "source": [
        "# Modelin Eğitilmesi\n",
        "epochs=9\n",
        "history = model.fit(\n",
        "  train_ds,\n",
        "  validation_data=val_ds,\n",
        "  epochs=epochs\n",
        ")"
      ]
    },
    {
      "cell_type": "code",
      "execution_count": 115,
      "metadata": {
        "colab": {
          "base_uri": "https://localhost:8080/",
          "height": 390
        },
        "id": "mQb0AZN7rj9a",
        "outputId": "bceb066c-ea5c-42b2-b70f-2820515ba46e"
      },
      "outputs": [
        {
          "output_type": "display_data",
          "data": {
            "text/plain": [
              "<Figure size 864x432 with 2 Axes>"
            ],
            "image/png": "[encoded data removed]"
          },
          "metadata": {
            "needs_background": "light"
          }
        }
      ],
      "source": [
        "# Eğitim Sonuçlarının Görselleştirilmesi\n",
        "acc = history.history['accuracy']\n",
        "val_acc = history.history['val_accuracy']\n",
        "\n",
        "loss = history.history['loss']\n",
        "val_loss = history.history['val_loss']\n",
        "\n",
        "epochs_range = range(epochs)\n",
        "\n",
        "plt.figure(figsize=(12, 6))\n",
        "plt.subplot(1, 2, 1)\n",
        "plt.plot(epochs_range, acc, label='Eğitim')\n",
        "plt.plot(epochs_range, val_acc, label='Doğrulama')\n",
        "plt.legend(loc='lower right')\n",
        "plt.title('Eğitim ve Doğrulama Neticesinde Kesinlik')\n",
        "\n",
        "plt.subplot(1, 2, 2)\n",
        "plt.plot(epochs_range, loss, label='Eğitim')\n",
        "plt.plot(epochs_range, val_loss, label='Doğrulama')\n",
        "plt.legend(loc='upper right')\n",
        "plt.title('Eğitim ve Doğrulama Neticesinde Kayıp')\n",
        "plt.show()"
      ]
    },
    {
      "cell_type": "code",
      "execution_count": 116,
      "metadata": {
        "id": "G1RPPdor3sMH"
      },
      "outputs": [],
      "source": [
        "# Yeni ray verilerini tahmin için gerekli fonksiyon hazırlanıyor\n",
        "def tahmin(resim, gercek):\n",
        "  konum = \"/content/drive/My Drive/Piton_Uygulamalarim/test/\"\n",
        "  konum = konum + resim\n",
        "\n",
        "  img = tf.keras.utils.load_img(\n",
        "      konum, target_size=(img_height, img_width)\n",
        "  )\n",
        "  img_array = tf.keras.utils.img_to_array(img)\n",
        "  img_array = tf.expand_dims(img_array, 0) # Create a batch\n",
        "\n",
        "  predictions = model.predict(img_array)\n",
        "  score = tf.nn.softmax(predictions[0])\n",
        "\n",
        "  print(\n",
        "      \"GERÇEK SINIF: {} | TAHMİN EDİLEN: {} . Doğruluk Oranı: %{:.2f}\"\n",
        "      .format(gercek, class_names[np.argmax(score)], 100 * np.max(score))\n",
        "  )"
      ]
    },
    {
      "cell_type": "code",
      "execution_count": 117,
      "metadata": {
        "id": "WpItljOC3v2O",
        "colab": {
          "base_uri": "https://localhost:8080/"
        },
        "outputId": "e1739c60-b1d0-43a7-b937-de582c11597a"
      },
      "outputs": [
        {
          "output_type": "stream",
          "name": "stdout",
          "text": [
            "1  GERÇEK SINIF: Saglam | TAHMİN EDİLEN: Kirik . Doğruluk Oranı: %83.92\n",
            "2  GERÇEK SINIF: Saglam | TAHMİN EDİLEN: Kirik . Doğruluk Oranı: %84.67\n",
            "3  GERÇEK SINIF: Saglam | TAHMİN EDİLEN: Kirik . Doğruluk Oranı: %75.66\n",
            "4  GERÇEK SINIF: Saglam | TAHMİN EDİLEN: Kirik . Doğruluk Oranı: %79.85\n",
            "5  GERÇEK SINIF: Saglam | TAHMİN EDİLEN: Saglam . Doğruluk Oranı: %73.69\n",
            "6  GERÇEK SINIF: Saglam | TAHMİN EDİLEN: Saglam . Doğruluk Oranı: %81.45\n",
            "7  GERÇEK SINIF: Saglam | TAHMİN EDİLEN: Saglam . Doğruluk Oranı: %61.84\n",
            "8  GERÇEK SINIF: Saglam | TAHMİN EDİLEN: Saglam . Doğruluk Oranı: %84.44\n",
            "9  GERÇEK SINIF: Saglam | TAHMİN EDİLEN: Saglam . Doğruluk Oranı: %79.87\n",
            "10  GERÇEK SINIF: Saglam | TAHMİN EDİLEN: Saglam . Doğruluk Oranı: %50.76\n",
            "11  GERÇEK SINIF: Saglam | TAHMİN EDİLEN: Saglam . Doğruluk Oranı: %75.38\n",
            "12  GERÇEK SINIF: Saglam | TAHMİN EDİLEN: Kirik . Doğruluk Oranı: %59.99\n",
            "13  GERÇEK SINIF: Saglam | TAHMİN EDİLEN: Kirik . Doğruluk Oranı: %50.87\n",
            "14  GERÇEK SINIF: Saglam | TAHMİN EDİLEN: Saglam . Doğruluk Oranı: %57.44\n",
            "15  GERÇEK SINIF: Saglam | TAHMİN EDİLEN: Saglam . Doğruluk Oranı: %61.66\n",
            "16  GERÇEK SINIF: Saglam | TAHMİN EDİLEN: Kirik . Doğruluk Oranı: %69.03\n",
            "17  GERÇEK SINIF: Saglam | TAHMİN EDİLEN: Saglam . Doğruluk Oranı: %55.22\n",
            "18  GERÇEK SINIF: Saglam | TAHMİN EDİLEN: Kirik . Doğruluk Oranı: %73.02\n",
            "19  GERÇEK SINIF: Saglam | TAHMİN EDİLEN: Kirik . Doğruluk Oranı: %60.71\n",
            "20  GERÇEK SINIF: Saglam | TAHMİN EDİLEN: Kirik . Doğruluk Oranı: %71.96\n",
            "21  GERÇEK SINIF: Saglam | TAHMİN EDİLEN: Kirik . Doğruluk Oranı: %67.49\n",
            "22  GERÇEK SINIF: Saglam | TAHMİN EDİLEN: Kirik . Doğruluk Oranı: %79.00\n",
            "23  GERÇEK SINIF: Saglam | TAHMİN EDİLEN: Saglam . Doğruluk Oranı: %50.82\n",
            "24  GERÇEK SINIF: Saglam | TAHMİN EDİLEN: Kirik . Doğruluk Oranı: %59.82\n",
            "25  GERÇEK SINIF: Saglam | TAHMİN EDİLEN: Kirik . Doğruluk Oranı: %50.22\n",
            "26  GERÇEK SINIF: Saglam | TAHMİN EDİLEN: Kirik . Doğruluk Oranı: %54.42\n",
            "27  GERÇEK SINIF: Saglam | TAHMİN EDİLEN: Saglam . Doğruluk Oranı: %79.25\n",
            "28  GERÇEK SINIF: Saglam | TAHMİN EDİLEN: Saglam . Doğruluk Oranı: %56.06\n",
            "29  GERÇEK SINIF: Saglam | TAHMİN EDİLEN: Kirik . Doğruluk Oranı: %59.19\n",
            "30  GERÇEK SINIF: Saglam | TAHMİN EDİLEN: Saglam . Doğruluk Oranı: %79.00\n",
            "31  GERÇEK SINIF: Saglam | TAHMİN EDİLEN: Saglam . Doğruluk Oranı: %79.53\n",
            "32  GERÇEK SINIF: Saglam | TAHMİN EDİLEN: Saglam . Doğruluk Oranı: %78.55\n",
            "33  GERÇEK SINIF: Saglam | TAHMİN EDİLEN: Kirik . Doğruluk Oranı: %79.63\n",
            "34  GERÇEK SINIF: Saglam | TAHMİN EDİLEN: Kirik . Doğruluk Oranı: %80.75\n",
            "35  GERÇEK SINIF: Saglam | TAHMİN EDİLEN: Kirik . Doğruluk Oranı: %74.90\n",
            "36  GERÇEK SINIF: Saglam | TAHMİN EDİLEN: Kirik . Doğruluk Oranı: %68.51\n",
            "37  GERÇEK SINIF: Saglam | TAHMİN EDİLEN: Kirik . Doğruluk Oranı: %69.96\n",
            "38  GERÇEK SINIF: Saglam | TAHMİN EDİLEN: Kirik . Doğruluk Oranı: %52.73\n",
            "39  GERÇEK SINIF: Saglam | TAHMİN EDİLEN: Saglam . Doğruluk Oranı: %85.32\n",
            "40  GERÇEK SINIF: Saglam | TAHMİN EDİLEN: Saglam . Doğruluk Oranı: %61.59\n",
            "41  GERÇEK SINIF: Saglam | TAHMİN EDİLEN: Saglam . Doğruluk Oranı: %51.13\n",
            "42  GERÇEK SINIF: Saglam | TAHMİN EDİLEN: Saglam . Doğruluk Oranı: %53.74\n",
            "43  GERÇEK SINIF: Saglam | TAHMİN EDİLEN: Saglam . Doğruluk Oranı: %72.61\n",
            "44  GERÇEK SINIF: Saglam | TAHMİN EDİLEN: Saglam . Doğruluk Oranı: %58.02\n",
            "45  GERÇEK SINIF: Saglam | TAHMİN EDİLEN: Kirik . Doğruluk Oranı: %79.86\n",
            "46  GERÇEK SINIF: Saglam | TAHMİN EDİLEN: Kirik . Doğruluk Oranı: %63.42\n",
            "47  GERÇEK SINIF: Saglam | TAHMİN EDİLEN: Saglam . Doğruluk Oranı: %54.16\n",
            "48  GERÇEK SINIF: Saglam | TAHMİN EDİLEN: Kirik . Doğruluk Oranı: %78.11\n",
            "49  GERÇEK SINIF: Saglam | TAHMİN EDİLEN: Kirik . Doğruluk Oranı: %56.86\n",
            "50  GERÇEK SINIF: Saglam | TAHMİN EDİLEN: Saglam . Doğruluk Oranı: %66.22\n",
            "51  GERÇEK SINIF: Saglam | TAHMİN EDİLEN: Saglam . Doğruluk Oranı: %67.87\n",
            "52  GERÇEK SINIF: Saglam | TAHMİN EDİLEN: Kirik . Doğruluk Oranı: %71.10\n",
            "53  GERÇEK SINIF: Saglam | TAHMİN EDİLEN: Kirik . Doğruluk Oranı: %65.22\n",
            "54  GERÇEK SINIF: Saglam | TAHMİN EDİLEN: Kirik . Doğruluk Oranı: %75.46\n",
            "55  GERÇEK SINIF: Saglam | TAHMİN EDİLEN: Saglam . Doğruluk Oranı: %78.89\n",
            "56  GERÇEK SINIF: Saglam | TAHMİN EDİLEN: Kirik . Doğruluk Oranı: %52.36\n",
            "57  GERÇEK SINIF: Saglam | TAHMİN EDİLEN: Kirik . Doğruluk Oranı: %72.61\n",
            "58  GERÇEK SINIF: Saglam | TAHMİN EDİLEN: Kirik . Doğruluk Oranı: %57.26\n",
            "59  GERÇEK SINIF: Saglam | TAHMİN EDİLEN: Saglam . Doğruluk Oranı: %61.41\n",
            "60  GERÇEK SINIF: Saglam | TAHMİN EDİLEN: Saglam . Doğruluk Oranı: %83.60\n",
            "61  GERÇEK SINIF: Saglam | TAHMİN EDİLEN: Saglam . Doğruluk Oranı: %65.51\n",
            "62  GERÇEK SINIF: Saglam | TAHMİN EDİLEN: Kirik . Doğruluk Oranı: %56.08\n",
            "63  GERÇEK SINIF: Saglam | TAHMİN EDİLEN: Saglam . Doğruluk Oranı: %72.57\n",
            "64  GERÇEK SINIF: Saglam | TAHMİN EDİLEN: Saglam . Doğruluk Oranı: %80.74\n",
            "65  GERÇEK SINIF: Saglam | TAHMİN EDİLEN: Saglam . Doğruluk Oranı: %68.45\n",
            "66  GERÇEK SINIF: Saglam | TAHMİN EDİLEN: Kirik . Doğruluk Oranı: %86.13\n",
            "67  GERÇEK SINIF: Saglam | TAHMİN EDİLEN: Saglam . Doğruluk Oranı: %87.16\n",
            "68  GERÇEK SINIF: Saglam | TAHMİN EDİLEN: Saglam . Doğruluk Oranı: %83.91\n",
            "69  GERÇEK SINIF: Saglam | TAHMİN EDİLEN: Kirik . Doğruluk Oranı: %50.08\n",
            "70  GERÇEK SINIF: Saglam | TAHMİN EDİLEN: Saglam . Doğruluk Oranı: %92.81\n",
            "71  GERÇEK SINIF: Saglam | TAHMİN EDİLEN: Saglam . Doğruluk Oranı: %84.27\n",
            "72  GERÇEK SINIF: Saglam | TAHMİN EDİLEN: Saglam . Doğruluk Oranı: %73.00\n",
            "73  GERÇEK SINIF: Saglam | TAHMİN EDİLEN: Kirik . Doğruluk Oranı: %69.50\n",
            "74  GERÇEK SINIF: Saglam | TAHMİN EDİLEN: Saglam . Doğruluk Oranı: %67.75\n",
            "75  GERÇEK SINIF: Saglam | TAHMİN EDİLEN: Saglam . Doğruluk Oranı: %63.50\n",
            "76  GERÇEK SINIF: Saglam | TAHMİN EDİLEN: Saglam . Doğruluk Oranı: %57.43\n",
            "77  GERÇEK SINIF: Saglam | TAHMİN EDİLEN: Saglam . Doğruluk Oranı: %61.55\n",
            "78  GERÇEK SINIF: Saglam | TAHMİN EDİLEN: Saglam . Doğruluk Oranı: %57.70\n",
            "79  GERÇEK SINIF: Saglam | TAHMİN EDİLEN: Saglam . Doğruluk Oranı: %74.68\n",
            "80  GERÇEK SINIF: Saglam | TAHMİN EDİLEN: Saglam . Doğruluk Oranı: %59.79\n",
            "81  GERÇEK SINIF: Saglam | TAHMİN EDİLEN: Saglam . Doğruluk Oranı: %76.68\n",
            "82  GERÇEK SINIF: Saglam | TAHMİN EDİLEN: Kirik . Doğruluk Oranı: %75.11\n",
            "83  GERÇEK SINIF: Saglam | TAHMİN EDİLEN: Saglam . Doğruluk Oranı: %52.91\n",
            "84  GERÇEK SINIF: Saglam | TAHMİN EDİLEN: Saglam . Doğruluk Oranı: %81.77\n",
            "85  GERÇEK SINIF: Saglam | TAHMİN EDİLEN: Kirik . Doğruluk Oranı: %74.23\n",
            "86  GERÇEK SINIF: Saglam | TAHMİN EDİLEN: Saglam . Doğruluk Oranı: %61.78\n",
            "87  GERÇEK SINIF: Saglam | TAHMİN EDİLEN: Kirik . Doğruluk Oranı: %71.88\n",
            "88  GERÇEK SINIF: Saglam | TAHMİN EDİLEN: Saglam . Doğruluk Oranı: %81.15\n",
            "89  GERÇEK SINIF: Saglam | TAHMİN EDİLEN: Saglam . Doğruluk Oranı: %85.34\n",
            "90  GERÇEK SINIF: Saglam | TAHMİN EDİLEN: Kirik . Doğruluk Oranı: %67.18\n",
            "91  GERÇEK SINIF: Saglam | TAHMİN EDİLEN: Saglam . Doğruluk Oranı: %63.93\n",
            "------------------------------------------------------------------------------------------\n",
            "1  GERÇEK SINIF: Kirik | TAHMİN EDİLEN: Kirik . Doğruluk Oranı: %85.53\n",
            "2  GERÇEK SINIF: Kirik | TAHMİN EDİLEN: Kirik . Doğruluk Oranı: %56.78\n",
            "3  GERÇEK SINIF: Kirik | TAHMİN EDİLEN: Kirik . Doğruluk Oranı: %92.54\n",
            "4  GERÇEK SINIF: Kirik | TAHMİN EDİLEN: Kirik . Doğruluk Oranı: %89.03\n",
            "5  GERÇEK SINIF: Kirik | TAHMİN EDİLEN: Kirik . Doğruluk Oranı: %56.86\n",
            "6  GERÇEK SINIF: Kirik | TAHMİN EDİLEN: Kirik . Doğruluk Oranı: %58.20\n",
            "7  GERÇEK SINIF: Kirik | TAHMİN EDİLEN: Kirik . Doğruluk Oranı: %52.67\n",
            "8  GERÇEK SINIF: Kirik | TAHMİN EDİLEN: Kirik . Doğruluk Oranı: %60.16\n",
            "9  GERÇEK SINIF: Kirik | TAHMİN EDİLEN: Saglam . Doğruluk Oranı: %57.52\n",
            "10  GERÇEK SINIF: Kirik | TAHMİN EDİLEN: Kirik . Doğruluk Oranı: %73.07\n",
            "11  GERÇEK SINIF: Kirik | TAHMİN EDİLEN: Saglam . Doğruluk Oranı: %51.96\n",
            "12  GERÇEK SINIF: Kirik | TAHMİN EDİLEN: Kirik . Doğruluk Oranı: %54.05\n",
            "13  GERÇEK SINIF: Kirik | TAHMİN EDİLEN: Kirik . Doğruluk Oranı: %85.16\n",
            "14  GERÇEK SINIF: Kirik | TAHMİN EDİLEN: Kirik . Doğruluk Oranı: %84.83\n",
            "15  GERÇEK SINIF: Kirik | TAHMİN EDİLEN: Saglam . Doğruluk Oranı: %60.50\n",
            "16  GERÇEK SINIF: Kirik | TAHMİN EDİLEN: Saglam . Doğruluk Oranı: %56.51\n",
            "17  GERÇEK SINIF: Kirik | TAHMİN EDİLEN: Kirik . Doğruluk Oranı: %82.25\n",
            "18  GERÇEK SINIF: Kirik | TAHMİN EDİLEN: Saglam . Doğruluk Oranı: %60.61\n",
            "19  GERÇEK SINIF: Kirik | TAHMİN EDİLEN: Kirik . Doğruluk Oranı: %54.70\n",
            "20  GERÇEK SINIF: Kirik | TAHMİN EDİLEN: Kirik . Doğruluk Oranı: %79.78\n",
            "21  GERÇEK SINIF: Kirik | TAHMİN EDİLEN: Kirik . Doğruluk Oranı: %90.08\n",
            "22  GERÇEK SINIF: Kirik | TAHMİN EDİLEN: Kirik . Doğruluk Oranı: %68.41\n",
            "23  GERÇEK SINIF: Kirik | TAHMİN EDİLEN: Kirik . Doğruluk Oranı: %81.12\n",
            "24  GERÇEK SINIF: Kirik | TAHMİN EDİLEN: Kirik . Doğruluk Oranı: %78.82\n",
            "25  GERÇEK SINIF: Kirik | TAHMİN EDİLEN: Kirik . Doğruluk Oranı: %91.45\n",
            "26  GERÇEK SINIF: Kirik | TAHMİN EDİLEN: Kirik . Doğruluk Oranı: %78.06\n",
            "27  GERÇEK SINIF: Kirik | TAHMİN EDİLEN: Kirik . Doğruluk Oranı: %81.84\n",
            "28  GERÇEK SINIF: Kirik | TAHMİN EDİLEN: Kirik . Doğruluk Oranı: %82.89\n",
            "29  GERÇEK SINIF: Kirik | TAHMİN EDİLEN: Kirik . Doğruluk Oranı: %88.71\n",
            "30  GERÇEK SINIF: Kirik | TAHMİN EDİLEN: Kirik . Doğruluk Oranı: %93.58\n",
            "31  GERÇEK SINIF: Kirik | TAHMİN EDİLEN: Kirik . Doğruluk Oranı: %55.75\n",
            "32  GERÇEK SINIF: Kirik | TAHMİN EDİLEN: Saglam . Doğruluk Oranı: %52.40\n",
            "33  GERÇEK SINIF: Kirik | TAHMİN EDİLEN: Kirik . Doğruluk Oranı: %79.99\n",
            "34  GERÇEK SINIF: Kirik | TAHMİN EDİLEN: Kirik . Doğruluk Oranı: %80.26\n",
            "35  GERÇEK SINIF: Kirik | TAHMİN EDİLEN: Kirik . Doğruluk Oranı: %61.84\n",
            "36  GERÇEK SINIF: Kirik | TAHMİN EDİLEN: Kirik . Doğruluk Oranı: %58.22\n",
            "37  GERÇEK SINIF: Kirik | TAHMİN EDİLEN: Kirik . Doğruluk Oranı: %53.64\n",
            "38  GERÇEK SINIF: Kirik | TAHMİN EDİLEN: Kirik . Doğruluk Oranı: %56.26\n",
            "39  GERÇEK SINIF: Kirik | TAHMİN EDİLEN: Kirik . Doğruluk Oranı: %65.70\n",
            "40  GERÇEK SINIF: Kirik | TAHMİN EDİLEN: Saglam . Doğruluk Oranı: %65.82\n",
            "41  GERÇEK SINIF: Kirik | TAHMİN EDİLEN: Kirik . Doğruluk Oranı: %50.17\n",
            "42  GERÇEK SINIF: Kirik | TAHMİN EDİLEN: Kirik . Doğruluk Oranı: %60.18\n",
            "43  GERÇEK SINIF: Kirik | TAHMİN EDİLEN: Kirik . Doğruluk Oranı: %79.23\n",
            "44  GERÇEK SINIF: Kirik | TAHMİN EDİLEN: Kirik . Doğruluk Oranı: %70.54\n",
            "45  GERÇEK SINIF: Kirik | TAHMİN EDİLEN: Saglam . Doğruluk Oranı: %71.06\n",
            "46  GERÇEK SINIF: Kirik | TAHMİN EDİLEN: Kirik . Doğruluk Oranı: %61.97\n",
            "47  GERÇEK SINIF: Kirik | TAHMİN EDİLEN: Kirik . Doğruluk Oranı: %78.86\n",
            "48  GERÇEK SINIF: Kirik | TAHMİN EDİLEN: Kirik . Doğruluk Oranı: %80.57\n",
            "49  GERÇEK SINIF: Kirik | TAHMİN EDİLEN: Kirik . Doğruluk Oranı: %78.49\n",
            "50  GERÇEK SINIF: Kirik | TAHMİN EDİLEN: Kirik . Doğruluk Oranı: %90.55\n",
            "51  GERÇEK SINIF: Kirik | TAHMİN EDİLEN: Kirik . Doğruluk Oranı: %85.10\n",
            "52  GERÇEK SINIF: Kirik | TAHMİN EDİLEN: Kirik . Doğruluk Oranı: %81.29\n",
            "53  GERÇEK SINIF: Kirik | TAHMİN EDİLEN: Kirik . Doğruluk Oranı: %80.16\n",
            "54  GERÇEK SINIF: Kirik | TAHMİN EDİLEN: Kirik . Doğruluk Oranı: %83.71\n",
            "55  GERÇEK SINIF: Kirik | TAHMİN EDİLEN: Kirik . Doğruluk Oranı: %77.93\n",
            "56  GERÇEK SINIF: Kirik | TAHMİN EDİLEN: Kirik . Doğruluk Oranı: %84.60\n",
            "57  GERÇEK SINIF: Kirik | TAHMİN EDİLEN: Kirik . Doğruluk Oranı: %85.91\n",
            "58  GERÇEK SINIF: Kirik | TAHMİN EDİLEN: Kirik . Doğruluk Oranı: %82.56\n",
            "59  GERÇEK SINIF: Kirik | TAHMİN EDİLEN: Kirik . Doğruluk Oranı: %81.82\n",
            "60  GERÇEK SINIF: Kirik | TAHMİN EDİLEN: Kirik . Doğruluk Oranı: %73.70\n",
            "61  GERÇEK SINIF: Kirik | TAHMİN EDİLEN: Kirik . Doğruluk Oranı: %64.83\n",
            "62  GERÇEK SINIF: Kirik | TAHMİN EDİLEN: Kirik . Doğruluk Oranı: %91.33\n",
            "63  GERÇEK SINIF: Kirik | TAHMİN EDİLEN: Kirik . Doğruluk Oranı: %73.97\n",
            "64  GERÇEK SINIF: Kirik | TAHMİN EDİLEN: Kirik . Doğruluk Oranı: %84.94\n",
            "65  GERÇEK SINIF: Kirik | TAHMİN EDİLEN: Kirik . Doğruluk Oranı: %83.04\n",
            "66  GERÇEK SINIF: Kirik | TAHMİN EDİLEN: Kirik . Doğruluk Oranı: %77.72\n",
            "67  GERÇEK SINIF: Kirik | TAHMİN EDİLEN: Kirik . Doğruluk Oranı: %76.15\n",
            "68  GERÇEK SINIF: Kirik | TAHMİN EDİLEN: Kirik . Doğruluk Oranı: %75.24\n",
            "69  GERÇEK SINIF: Kirik | TAHMİN EDİLEN: Kirik . Doğruluk Oranı: %72.23\n",
            "70  GERÇEK SINIF: Kirik | TAHMİN EDİLEN: Kirik . Doğruluk Oranı: %84.74\n",
            "71  GERÇEK SINIF: Kirik | TAHMİN EDİLEN: Kirik . Doğruluk Oranı: %71.84\n",
            "72  GERÇEK SINIF: Kirik | TAHMİN EDİLEN: Kirik . Doğruluk Oranı: %84.80\n",
            "73  GERÇEK SINIF: Kirik | TAHMİN EDİLEN: Kirik . Doğruluk Oranı: %77.94\n",
            "74  GERÇEK SINIF: Kirik | TAHMİN EDİLEN: Kirik . Doğruluk Oranı: %82.22\n",
            "75  GERÇEK SINIF: Kirik | TAHMİN EDİLEN: Kirik . Doğruluk Oranı: %84.61\n",
            "76  GERÇEK SINIF: Kirik | TAHMİN EDİLEN: Kirik . Doğruluk Oranı: %85.15\n",
            "77  GERÇEK SINIF: Kirik | TAHMİN EDİLEN: Kirik . Doğruluk Oranı: %83.87\n",
            "78  GERÇEK SINIF: Kirik | TAHMİN EDİLEN: Kirik . Doğruluk Oranı: %74.94\n",
            "79  GERÇEK SINIF: Kirik | TAHMİN EDİLEN: Kirik . Doğruluk Oranı: %67.40\n",
            "80  GERÇEK SINIF: Kirik | TAHMİN EDİLEN: Kirik . Doğruluk Oranı: %84.16\n",
            "81  GERÇEK SINIF: Kirik | TAHMİN EDİLEN: Kirik . Doğruluk Oranı: %62.36\n",
            "82  GERÇEK SINIF: Kirik | TAHMİN EDİLEN: Saglam . Doğruluk Oranı: %56.26\n",
            "83  GERÇEK SINIF: Kirik | TAHMİN EDİLEN: Kirik . Doğruluk Oranı: %72.85\n",
            "84  GERÇEK SINIF: Kirik | TAHMİN EDİLEN: Kirik . Doğruluk Oranı: %79.85\n",
            "85  GERÇEK SINIF: Kirik | TAHMİN EDİLEN: Saglam . Doğruluk Oranı: %55.31\n",
            "86  GERÇEK SINIF: Kirik | TAHMİN EDİLEN: Kirik . Doğruluk Oranı: %82.52\n",
            "87  GERÇEK SINIF: Kirik | TAHMİN EDİLEN: Kirik . Doğruluk Oranı: %72.43\n",
            "88  GERÇEK SINIF: Kirik | TAHMİN EDİLEN: Saglam . Doğruluk Oranı: %62.16\n",
            "89  GERÇEK SINIF: Kirik | TAHMİN EDİLEN: Saglam . Doğruluk Oranı: %55.72\n",
            "90  GERÇEK SINIF: Kirik | TAHMİN EDİLEN: Kirik . Doğruluk Oranı: %55.83\n",
            "91  GERÇEK SINIF: Kirik | TAHMİN EDİLEN: Kirik . Doğruluk Oranı: %53.34\n",
            "92  GERÇEK SINIF: Kirik | TAHMİN EDİLEN: Kirik . Doğruluk Oranı: %78.49\n",
            "93  GERÇEK SINIF: Kirik | TAHMİN EDİLEN: Kirik . Doğruluk Oranı: %56.02\n",
            "94  GERÇEK SINIF: Kirik | TAHMİN EDİLEN: Kirik . Doğruluk Oranı: %74.81\n",
            "95  GERÇEK SINIF: Kirik | TAHMİN EDİLEN: Kirik . Doğruluk Oranı: %72.52\n",
            "96  GERÇEK SINIF: Kirik | TAHMİN EDİLEN: Kirik . Doğruluk Oranı: %76.07\n",
            "97  GERÇEK SINIF: Kirik | TAHMİN EDİLEN: Kirik . Doğruluk Oranı: %75.51\n",
            "98  GERÇEK SINIF: Kirik | TAHMİN EDİLEN: Kirik . Doğruluk Oranı: %92.35\n",
            "99  GERÇEK SINIF: Kirik | TAHMİN EDİLEN: Saglam . Doğruluk Oranı: %53.62\n"
          ]
        }
      ],
      "source": [
        "# Test klasöründeki tüm dosyaları okuyup tahmin edelim...\n",
        "saglam_test_imgeleri = listdir(\"/content/drive/My Drive/Piton_Uygulamalarim/test/t_saglam/\")\n",
        "kirik_test_imgeleri = listdir(\"/content/drive/My Drive/Piton_Uygulamalarim/test/t_kirik/\")\n",
        "\n",
        "sSay = kSay = 1\n",
        "\n",
        "for s_img in saglam_test_imgeleri:\n",
        "  print(sSay, \" \", end=\"\")\n",
        "  tahmin(\"t_saglam/\" + s_img, \"Saglam\")\n",
        "  sSay += 1\n",
        "\n",
        "print(90 * \"-\")\n",
        "\n",
        "for k_img in kirik_test_imgeleri:\n",
        "  print(kSay, \" \", end=\"\")\n",
        "  tahmin(\"t_kirik/\" + k_img, \"Kirik\")\n",
        "  kSay += 1\n",
        "\n"
      ]
    },
    {
      "cell_type": "code",
      "execution_count": null,
      "metadata": {
        "id": "WF1wm5lm7hf_"
      },
      "outputs": [],
      "source": [
        ""
      ]
    }
  ],
  "metadata": {
    "colab": {
      "collapsed_sections": [],
      "name": "ymt579_final.ipynb",
      "provenance": []
    },
    "kernelspec": {
      "display_name": "Python 3",
      "name": "python3"
    },
    "language_info": {
      "name": "python"
    }
  },
  "nbformat": 4,
  "nbformat_minor": 0
}