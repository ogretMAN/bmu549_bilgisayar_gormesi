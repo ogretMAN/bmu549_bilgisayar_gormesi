{
  "cells": [
    {
      "cell_type": "code",
      "execution_count": 101,
      "metadata": {
        "id": "lRXAt4T1YS29",
        "colab": {
          "base_uri": "https://localhost:8080/",
          "height": 35
        },
        "outputId": "5be584ff-67ed-4cf6-9ae9-d111c5b149b8"
      },
      "outputs": [
        {
          "output_type": "execute_result",
          "data": {
            "text/plain": [
              "'\\nYMT 579 MAKİNE GÖRMESİ / ÖDEV-5\\n\\nÖrnek cNN çalışması\\n\\n@author: Selçuk Sinan KIRAT (No: 211129110)\\n'"
            ],
            "application/vnd.google.colaboratory.intrinsic+json": {
              "type": "string"
            }
          },
          "metadata": {},
          "execution_count": 101
        }
      ],
      "source": [
        "\"\"\"\n",
        "YMT 579 MAKİNE GÖRMESİ / ÖDEV-5\n",
        "\n",
        "Örnek cNN çalışması\n",
        "\n",
        "@author: Selçuk Sinan KIRAT (No: 211129110)\n",
        "\"\"\""
      ]
    },
    {
      "cell_type": "code",
      "execution_count": 134,
      "metadata": {
        "colab": {
          "base_uri": "https://localhost:8080/"
        },
        "id": "VS2H585aPs9_",
        "outputId": "77687f23-dd90-48eb-c2e7-c0dab8943142"
      },
      "outputs": [
        {
          "output_type": "stream",
          "name": "stdout",
          "text": [
            "Drive already mounted at /content/drive; to attempt to forcibly remount, call drive.mount(\"/content/drive\", force_remount=True).\n"
          ]
        }
      ],
      "source": [
        "from google.colab import drive\n",
        "drive.mount('/content/drive')"
      ]
    },
    {
      "cell_type": "code",
      "execution_count": 135,
      "metadata": {
        "id": "sa3km0TZpl6_"
      },
      "outputs": [],
      "source": [
        "import matplotlib.pyplot as plt\n",
        "import numpy as np\n",
        "from os import listdir\n",
        "#import PIL\n",
        "import tensorflow as tf\n",
        "\n",
        "from tensorflow import keras\n",
        "from tensorflow.keras import layers\n",
        "from tensorflow.keras.models import Sequential"
      ]
    },
    {
      "cell_type": "code",
      "execution_count": 136,
      "metadata": {
        "id": "n6nO12mzqbkT"
      },
      "outputs": [],
      "source": [
        "# Parametreler ayarlanıyor\n",
        "data_dir = \"/content/drive/My Drive/Piton_Uygulamalarim/raylar\"\n",
        "batch_size = 32\n",
        "img_height = 540\n",
        "img_width = 120"
      ]
    },
    {
      "cell_type": "code",
      "execution_count": 137,
      "metadata": {
        "colab": {
          "base_uri": "https://localhost:8080/"
        },
        "id": "jByPFXplqc7c",
        "outputId": "5678c6d6-734b-407b-823b-856b98f1c07e"
      },
      "outputs": [
        {
          "output_type": "stream",
          "name": "stdout",
          "text": [
            "Found 1810 files belonging to 2 classes.\n",
            "Using 1448 files for training.\n"
          ]
        }
      ],
      "source": [
        "# Eğitim Verisi Ayarlanıyor\n",
        "train_ds = tf.keras.utils.image_dataset_from_directory(\n",
        "  data_dir,\n",
        "  validation_split=0.2,\n",
        "  subset=\"training\",\n",
        "  seed=123,\n",
        "  image_size=(img_height, img_width),\n",
        "  batch_size=batch_size)"
      ]
    },
    {
      "cell_type": "code",
      "execution_count": 138,
      "metadata": {
        "colab": {
          "base_uri": "https://localhost:8080/"
        },
        "id": "O8PDqwlVqiQM",
        "outputId": "34419bef-8a00-4f9f-f2e2-51397126ad60"
      },
      "outputs": [
        {
          "output_type": "stream",
          "name": "stdout",
          "text": [
            "Found 1810 files belonging to 2 classes.\n",
            "Using 362 files for validation.\n"
          ]
        }
      ],
      "source": [
        "# Test Verisi Ayarlanıyor\n",
        "val_ds = tf.keras.utils.image_dataset_from_directory(\n",
        "  data_dir,\n",
        "  validation_split=0.2,\n",
        "  subset=\"validation\",\n",
        "  seed=123,\n",
        "  image_size=(img_height, img_width),\n",
        "  batch_size=batch_size)"
      ]
    },
    {
      "cell_type": "code",
      "execution_count": 139,
      "metadata": {
        "colab": {
          "base_uri": "https://localhost:8080/"
        },
        "id": "MI-X4w4wqk1T",
        "outputId": "672a2c19-e7b2-4188-f65a-443d3823945b"
      },
      "outputs": [
        {
          "output_type": "stream",
          "name": "stdout",
          "text": [
            "['Kirik', 'Saglam']\n"
          ]
        }
      ],
      "source": [
        "# Sınıf İsimleri Sorgulanıyor\n",
        "class_names = train_ds.class_names\n",
        "print(class_names)"
      ]
    },
    {
      "cell_type": "code",
      "execution_count": 140,
      "metadata": {
        "colab": {
          "base_uri": "https://localhost:8080/",
          "height": 319
        },
        "id": "GqQ6HnZ_qpN_",
        "outputId": "b8c3fffb-f897-409b-dca5-08990dd4034c"
      },
      "outputs": [
        {
          "output_type": "display_data",
          "data": {
            "text/plain": [
              "<Figure size 360x360 with 6 Axes>"
            ],
            "image/png": "[encoded data removed]"
          },
          "metadata": {
            "needs_background": "light"
          }
        }
      ],
      "source": [
        "# Eğitim verilerinden 6 tanesini görüntüle\n",
        "plt.figure(figsize=(5, 5))\n",
        "for images, labels in train_ds.take(1):\n",
        "  for i in range(6):\n",
        "    ax = plt.subplot(2, 3, i + 1)\n",
        "    plt.imshow(images[i].numpy().astype(\"uint8\"))\n",
        "    plt.title(class_names[labels[i]])\n",
        "    plt.axis(\"off\")"
      ]
    },
    {
      "cell_type": "code",
      "execution_count": 141,
      "metadata": {
        "colab": {
          "base_uri": "https://localhost:8080/"
        },
        "id": "A-LX-eNuq74y",
        "outputId": "226c8aec-758b-46c3-8cad-8abb337c48e6"
      },
      "outputs": [
        {
          "output_type": "stream",
          "name": "stdout",
          "text": [
            "Resim 1'deki en küçük piksel değeri: 0.003921569 en büyük piksel değeri: 0.6862745\n"
          ]
        }
      ],
      "source": [
        "# Verileri Standartlaştırma [0, 1] aralığı\n",
        "normalization_layer = layers.Rescaling(1./255)\n",
        "\n",
        "normalized_ds = train_ds.map(lambda x, y: (normalization_layer(x), y))\n",
        "image_batch, labels_batch = next(iter(normalized_ds))\n",
        "first_image = image_batch[0]\n",
        "\n",
        "print(\"Resim 1'deki en küçük piksel değeri:\", np.min(first_image), \"en büyük piksel değeri:\", np.max(first_image))"
      ]
    },
    {
      "cell_type": "code",
      "execution_count": 142,
      "metadata": {
        "id": "BmFu0Txfh0eU"
      },
      "outputs": [],
      "source": [
        "# Veri örneklerini büyütme\n",
        "data_augmentation = keras.Sequential(\n",
        "  [\n",
        "    layers.RandomFlip(\"horizontal\",\n",
        "                      input_shape=(img_height,\n",
        "                                  img_width,\n",
        "                                  3)),\n",
        "    layers.RandomRotation(0.1),\n",
        "    layers.RandomZoom(0.1),\n",
        "  ]\n",
        ")"
      ]
    },
    {
      "cell_type": "code",
      "execution_count": 143,
      "metadata": {
        "id": "-swgKGWQrMGc"
      },
      "outputs": [],
      "source": [
        "# Modeli Oluşturalım\n",
        "num_classes = len(class_names)\n",
        "\n",
        "model = Sequential([\n",
        "  data_augmentation,\n",
        "  layers.Rescaling(1./255, input_shape=(img_height, img_width, 3)),\n",
        "  layers.Conv2D(16, 3, padding='valid', activation='relu'),\n",
        "  layers.MaxPooling2D(),\n",
        "  layers.Conv2D(32, 3, padding='valid', activation='relu'),\n",
        "  layers.MaxPooling2D(),\n",
        "  layers.Conv2D(64, 3, padding='valid', activation='relu'),\n",
        "  layers.MaxPooling2D(),\n",
        "  layers.Conv2D(128, 3, padding='valid', activation='relu'),\n",
        "  layers.MaxPooling2D(),\n",
        "  layers.Dropout(0.15), # Bırakma\n",
        "  layers.Flatten(),\n",
        "  layers.Dense(256, activation='relu'),\n",
        "  layers.Dense(num_classes)\n",
        "])"
      ]
    },
    {
      "cell_type": "code",
      "execution_count": 144,
      "metadata": {
        "id": "SACQrMwYrVX6"
      },
      "outputs": [],
      "source": [
        "# Modeli Derleyelim\n",
        "model.compile(optimizer='Adamax',\n",
        "              loss=tf.keras.losses.SparseCategoricalCrossentropy(from_logits=True),\n",
        "              metrics=['accuracy'])"
      ]
    },
    {
      "cell_type": "code",
      "execution_count": 145,
      "metadata": {
        "colab": {
          "base_uri": "https://localhost:8080/"
        },
        "id": "1pqE9jvJraZl",
        "outputId": "0d627914-0027-4a8d-c832-b7aae6f7f102"
      },
      "outputs": [
        {
          "output_type": "stream",
          "name": "stdout",
          "text": [
            "Model: \"sequential_19\"\n",
            "_________________________________________________________________\n",
            " Layer (type)                Output Shape              Param #   \n",
            "=================================================================\n",
            " sequential_18 (Sequential)  (None, 540, 120, 3)       0         \n",
            "                                                                 \n",
            " rescaling_19 (Rescaling)    (None, 540, 120, 3)       0         \n",
            "                                                                 \n",
            " conv2d_40 (Conv2D)          (None, 538, 118, 16)      448       \n",
            "                                                                 \n",
            " max_pooling2d_40 (MaxPoolin  (None, 269, 59, 16)      0         \n",
            " g2D)                                                            \n",
            "                                                                 \n",
            " conv2d_41 (Conv2D)          (None, 267, 57, 32)       4640      \n",
            "                                                                 \n",
            " max_pooling2d_41 (MaxPoolin  (None, 133, 28, 32)      0         \n",
            " g2D)                                                            \n",
            "                                                                 \n",
            " conv2d_42 (Conv2D)          (None, 131, 26, 64)       18496     \n",
            "                                                                 \n",
            " max_pooling2d_42 (MaxPoolin  (None, 65, 13, 64)       0         \n",
            " g2D)                                                            \n",
            "                                                                 \n",
            " conv2d_43 (Conv2D)          (None, 63, 11, 128)       73856     \n",
            "                                                                 \n",
            " max_pooling2d_43 (MaxPoolin  (None, 31, 5, 128)       0         \n",
            " g2D)                                                            \n",
            "                                                                 \n",
            " dropout_10 (Dropout)        (None, 31, 5, 128)        0         \n",
            "                                                                 \n",
            " flatten_10 (Flatten)        (None, 19840)             0         \n",
            "                                                                 \n",
            " dense_20 (Dense)            (None, 256)               5079296   \n",
            "                                                                 \n",
            " dense_21 (Dense)            (None, 2)                 514       \n",
            "                                                                 \n",
            "=================================================================\n",
            "Total params: 5,177,250\n",
            "Trainable params: 5,177,250\n",
            "Non-trainable params: 0\n",
            "_________________________________________________________________\n"
          ]
        }
      ],
      "source": [
        "# Model Özet Bilgileri\n",
        "model.summary()"
      ]
    },
    {
      "cell_type": "code",
      "execution_count": 146,
      "metadata": {
        "colab": {
          "base_uri": "https://localhost:8080/"
        },
        "id": "hyXivAxZrfWe",
        "outputId": "35a24521-1c29-4583-958d-f85c65e6dac2"
      },
      "outputs": [
        {
          "output_type": "stream",
          "name": "stdout",
          "text": [
            "Epoch 1/10\n",
            "46/46 [==============================] - 116s 2s/step - loss: 0.7176 - accuracy: 0.4972 - val_loss: 0.6912 - val_accuracy: 0.6492\n",
            "Epoch 2/10\n",
            "46/46 [==============================] - 110s 2s/step - loss: 0.6918 - accuracy: 0.5152 - val_loss: 0.6882 - val_accuracy: 0.4945\n",
            "Epoch 3/10\n",
            "46/46 [==============================] - 111s 2s/step - loss: 0.6874 - accuracy: 0.5518 - val_loss: 0.6740 - val_accuracy: 0.6602\n",
            "Epoch 4/10\n",
            "46/46 [==============================] - 110s 2s/step - loss: 0.6748 - accuracy: 0.5905 - val_loss: 0.6327 - val_accuracy: 0.7182\n",
            "Epoch 5/10\n",
            "46/46 [==============================] - 110s 2s/step - loss: 0.6400 - accuracy: 0.6381 - val_loss: 0.6314 - val_accuracy: 0.6326\n",
            "Epoch 6/10\n",
            "46/46 [==============================] - 109s 2s/step - loss: 0.6619 - accuracy: 0.6029 - val_loss: 0.6071 - val_accuracy: 0.7210\n",
            "Epoch 7/10\n",
            "46/46 [==============================] - 110s 2s/step - loss: 0.6194 - accuracy: 0.6602 - val_loss: 0.5519 - val_accuracy: 0.7265\n",
            "Epoch 8/10\n",
            "46/46 [==============================] - 111s 2s/step - loss: 0.5903 - accuracy: 0.6816 - val_loss: 0.5215 - val_accuracy: 0.7652\n",
            "Epoch 9/10\n",
            "46/46 [==============================] - 110s 2s/step - loss: 0.5881 - accuracy: 0.7017 - val_loss: 0.5476 - val_accuracy: 0.7431\n",
            "Epoch 10/10\n",
            "46/46 [==============================] - 110s 2s/step - loss: 0.5690 - accuracy: 0.7058 - val_loss: 0.5099 - val_accuracy: 0.7762\n"
          ]
        }
      ],
      "source": [
        "# Modelin Eğitilmesi\n",
        "epochs=10\n",
        "history = model.fit(\n",
        "  train_ds,\n",
        "  validation_data=val_ds,\n",
        "  epochs=epochs\n",
        ")"
      ]
    },
    {
      "cell_type": "code",
      "execution_count": 147,
      "metadata": {
        "colab": {
          "base_uri": "https://localhost:8080/",
          "height": 390
        },
        "id": "mQb0AZN7rj9a",
        "outputId": "165b868f-1982-4254-a608-fccec9021fba"
      },
      "outputs": [
        {
          "output_type": "display_data",
          "data": {
            "text/plain": [
              "<Figure size 864x432 with 2 Axes>"
            ],
            "image/png": "[encoded data removed]"
          },
          "metadata": {
            "needs_background": "light"
          }
        }
      ],
      "source": [
        "# Eğitim Sonuçlarının Görselleştirilmesi\n",
        "acc = history.history['accuracy']\n",
        "val_acc = history.history['val_accuracy']\n",
        "\n",
        "loss = history.history['loss']\n",
        "val_loss = history.history['val_loss']\n",
        "\n",
        "epochs_range = range(epochs)\n",
        "\n",
        "plt.figure(figsize=(12, 6))\n",
        "plt.subplot(1, 2, 1)\n",
        "plt.plot(epochs_range, acc, label='Eğitim')\n",
        "plt.plot(epochs_range, val_acc, label='Doğrulama')\n",
        "plt.legend(loc='lower right')\n",
        "plt.title('Eğitim ve Doğrulama Neticesinde Kesinlik')\n",
        "\n",
        "plt.subplot(1, 2, 2)\n",
        "plt.plot(epochs_range, loss, label='Eğitim')\n",
        "plt.plot(epochs_range, val_loss, label='Doğrulama')\n",
        "plt.legend(loc='upper right')\n",
        "plt.title('Eğitim ve Doğrulama Neticesinde Kayıp')\n",
        "plt.show()"
      ]
    },
    {
      "cell_type": "code",
      "execution_count": 148,
      "metadata": {
        "id": "G1RPPdor3sMH"
      },
      "outputs": [],
      "source": [
        "# Yeni ray verilerini tahmin için gerekli fonksiyon hazırlanıyor\n",
        "def tahmin(resim, gercek):\n",
        "  konum = \"/content/drive/My Drive/Piton_Uygulamalarim/test/\"\n",
        "  konum = konum + resim\n",
        "\n",
        "  img = tf.keras.utils.load_img(\n",
        "      konum, target_size=(img_height, img_width)\n",
        "  )\n",
        "  img_array = tf.keras.utils.img_to_array(img)\n",
        "  img_array = tf.expand_dims(img_array, 0) # Create a batch\n",
        "\n",
        "  predictions = model.predict(img_array)\n",
        "  score = tf.nn.softmax(predictions[0])\n",
        "\n",
        "  print(\n",
        "      \"GERÇEK SINIF: {} | TAHMİN EDİLEN: {} . Doğruluk Oranı: %{:.2f}\"\n",
        "      .format(gercek, class_names[np.argmax(score)], 100 * np.max(score))\n",
        "  )"
      ]
    },
    {
      "cell_type": "code",
      "execution_count": 149,
      "metadata": {
        "id": "WpItljOC3v2O",
        "colab": {
          "base_uri": "https://localhost:8080/"
        },
        "outputId": "d5d808e9-a63a-49c2-da9d-7c7966b07f2a"
      },
      "outputs": [
        {
          "output_type": "stream",
          "name": "stdout",
          "text": [
            "1  GERÇEK SINIF: Saglam | TAHMİN EDİLEN: Kirik . Doğruluk Oranı: %64.70\n",
            "2  GERÇEK SINIF: Saglam | TAHMİN EDİLEN: Kirik . Doğruluk Oranı: %74.13\n",
            "3  GERÇEK SINIF: Saglam | TAHMİN EDİLEN: Kirik . Doğruluk Oranı: %51.99\n",
            "4  GERÇEK SINIF: Saglam | TAHMİN EDİLEN: Kirik . Doğruluk Oranı: %67.38\n",
            "5  GERÇEK SINIF: Saglam | TAHMİN EDİLEN: Saglam . Doğruluk Oranı: %73.23\n",
            "6  GERÇEK SINIF: Saglam | TAHMİN EDİLEN: Saglam . Doğruluk Oranı: %91.54\n",
            "7  GERÇEK SINIF: Saglam | TAHMİN EDİLEN: Saglam . Doğruluk Oranı: %74.47\n",
            "8  GERÇEK SINIF: Saglam | TAHMİN EDİLEN: Saglam . Doğruluk Oranı: %91.12\n",
            "9  GERÇEK SINIF: Saglam | TAHMİN EDİLEN: Saglam . Doğruluk Oranı: %81.95\n",
            "10  GERÇEK SINIF: Saglam | TAHMİN EDİLEN: Saglam . Doğruluk Oranı: %81.82\n",
            "11  GERÇEK SINIF: Saglam | TAHMİN EDİLEN: Saglam . Doğruluk Oranı: %85.86\n",
            "12  GERÇEK SINIF: Saglam | TAHMİN EDİLEN: Saglam . Doğruluk Oranı: %64.63\n",
            "13  GERÇEK SINIF: Saglam | TAHMİN EDİLEN: Saglam . Doğruluk Oranı: %70.33\n",
            "14  GERÇEK SINIF: Saglam | TAHMİN EDİLEN: Saglam . Doğruluk Oranı: %81.49\n",
            "15  GERÇEK SINIF: Saglam | TAHMİN EDİLEN: Saglam . Doğruluk Oranı: %82.98\n",
            "16  GERÇEK SINIF: Saglam | TAHMİN EDİLEN: Saglam . Doğruluk Oranı: %62.29\n",
            "17  GERÇEK SINIF: Saglam | TAHMİN EDİLEN: Saglam . Doğruluk Oranı: %83.10\n",
            "18  GERÇEK SINIF: Saglam | TAHMİN EDİLEN: Kirik . Doğruluk Oranı: %58.20\n",
            "19  GERÇEK SINIF: Saglam | TAHMİN EDİLEN: Saglam . Doğruluk Oranı: %78.11\n",
            "20  GERÇEK SINIF: Saglam | TAHMİN EDİLEN: Kirik . Doğruluk Oranı: %68.68\n",
            "21  GERÇEK SINIF: Saglam | TAHMİN EDİLEN: Saglam . Doğruluk Oranı: %65.60\n",
            "22  GERÇEK SINIF: Saglam | TAHMİN EDİLEN: Saglam . Doğruluk Oranı: %51.32\n",
            "23  GERÇEK SINIF: Saglam | TAHMİN EDİLEN: Saglam . Doğruluk Oranı: %76.76\n",
            "24  GERÇEK SINIF: Saglam | TAHMİN EDİLEN: Saglam . Doğruluk Oranı: %70.71\n",
            "25  GERÇEK SINIF: Saglam | TAHMİN EDİLEN: Saglam . Doğruluk Oranı: %71.04\n",
            "26  GERÇEK SINIF: Saglam | TAHMİN EDİLEN: Saglam . Doğruluk Oranı: %68.95\n",
            "27  GERÇEK SINIF: Saglam | TAHMİN EDİLEN: Saglam . Doğruluk Oranı: %91.25\n",
            "28  GERÇEK SINIF: Saglam | TAHMİN EDİLEN: Saglam . Doğruluk Oranı: %70.79\n",
            "29  GERÇEK SINIF: Saglam | TAHMİN EDİLEN: Saglam . Doğruluk Oranı: %63.70\n",
            "30  GERÇEK SINIF: Saglam | TAHMİN EDİLEN: Saglam . Doğruluk Oranı: %91.76\n",
            "31  GERÇEK SINIF: Saglam | TAHMİN EDİLEN: Saglam . Doğruluk Oranı: %86.58\n",
            "32  GERÇEK SINIF: Saglam | TAHMİN EDİLEN: Saglam . Doğruluk Oranı: %91.18\n",
            "33  GERÇEK SINIF: Saglam | TAHMİN EDİLEN: Kirik . Doğruluk Oranı: %73.97\n",
            "34  GERÇEK SINIF: Saglam | TAHMİN EDİLEN: Saglam . Doğruluk Oranı: %52.84\n",
            "35  GERÇEK SINIF: Saglam | TAHMİN EDİLEN: Kirik . Doğruluk Oranı: %50.46\n",
            "36  GERÇEK SINIF: Saglam | TAHMİN EDİLEN: Kirik . Doğruluk Oranı: %52.86\n",
            "37  GERÇEK SINIF: Saglam | TAHMİN EDİLEN: Kirik . Doğruluk Oranı: %60.98\n",
            "38  GERÇEK SINIF: Saglam | TAHMİN EDİLEN: Saglam . Doğruluk Oranı: %60.25\n",
            "39  GERÇEK SINIF: Saglam | TAHMİN EDİLEN: Saglam . Doğruluk Oranı: %90.18\n",
            "40  GERÇEK SINIF: Saglam | TAHMİN EDİLEN: Saglam . Doğruluk Oranı: %54.48\n",
            "41  GERÇEK SINIF: Saglam | TAHMİN EDİLEN: Saglam . Doğruluk Oranı: %60.66\n",
            "42  GERÇEK SINIF: Saglam | TAHMİN EDİLEN: Saglam . Doğruluk Oranı: %52.44\n",
            "43  GERÇEK SINIF: Saglam | TAHMİN EDİLEN: Saglam . Doğruluk Oranı: %78.59\n",
            "44  GERÇEK SINIF: Saglam | TAHMİN EDİLEN: Saglam . Doğruluk Oranı: %62.43\n",
            "45  GERÇEK SINIF: Saglam | TAHMİN EDİLEN: Kirik . Doğruluk Oranı: %79.65\n",
            "46  GERÇEK SINIF: Saglam | TAHMİN EDİLEN: Kirik . Doğruluk Oranı: %58.81\n",
            "47  GERÇEK SINIF: Saglam | TAHMİN EDİLEN: Saglam . Doğruluk Oranı: %73.28\n",
            "48  GERÇEK SINIF: Saglam | TAHMİN EDİLEN: Kirik . Doğruluk Oranı: %59.64\n",
            "49  GERÇEK SINIF: Saglam | TAHMİN EDİLEN: Saglam . Doğruluk Oranı: %51.78\n",
            "50  GERÇEK SINIF: Saglam | TAHMİN EDİLEN: Saglam . Doğruluk Oranı: %85.54\n",
            "51  GERÇEK SINIF: Saglam | TAHMİN EDİLEN: Kirik . Doğruluk Oranı: %59.77\n",
            "52  GERÇEK SINIF: Saglam | TAHMİN EDİLEN: Saglam . Doğruluk Oranı: %50.90\n",
            "53  GERÇEK SINIF: Saglam | TAHMİN EDİLEN: Kirik . Doğruluk Oranı: %54.32\n",
            "54  GERÇEK SINIF: Saglam | TAHMİN EDİLEN: Kirik . Doğruluk Oranı: %54.55\n",
            "55  GERÇEK SINIF: Saglam | TAHMİN EDİLEN: Saglam . Doğruluk Oranı: %73.39\n",
            "56  GERÇEK SINIF: Saglam | TAHMİN EDİLEN: Saglam . Doğruluk Oranı: %65.76\n",
            "57  GERÇEK SINIF: Saglam | TAHMİN EDİLEN: Saglam . Doğruluk Oranı: %53.62\n",
            "58  GERÇEK SINIF: Saglam | TAHMİN EDİLEN: Saglam . Doğruluk Oranı: %73.32\n",
            "59  GERÇEK SINIF: Saglam | TAHMİN EDİLEN: Saglam . Doğruluk Oranı: %82.50\n",
            "60  GERÇEK SINIF: Saglam | TAHMİN EDİLEN: Saglam . Doğruluk Oranı: %84.61\n",
            "61  GERÇEK SINIF: Saglam | TAHMİN EDİLEN: Saglam . Doğruluk Oranı: %73.47\n",
            "62  GERÇEK SINIF: Saglam | TAHMİN EDİLEN: Saglam . Doğruluk Oranı: %71.18\n",
            "63  GERÇEK SINIF: Saglam | TAHMİN EDİLEN: Saglam . Doğruluk Oranı: %85.20\n",
            "64  GERÇEK SINIF: Saglam | TAHMİN EDİLEN: Saglam . Doğruluk Oranı: %89.52\n",
            "65  GERÇEK SINIF: Saglam | TAHMİN EDİLEN: Saglam . Doğruluk Oranı: %80.53\n",
            "66  GERÇEK SINIF: Saglam | TAHMİN EDİLEN: Kirik . Doğruluk Oranı: %73.79\n",
            "67  GERÇEK SINIF: Saglam | TAHMİN EDİLEN: Saglam . Doğruluk Oranı: %54.79\n",
            "68  GERÇEK SINIF: Saglam | TAHMİN EDİLEN: Saglam . Doğruluk Oranı: %71.89\n",
            "69  GERÇEK SINIF: Saglam | TAHMİN EDİLEN: Saglam . Doğruluk Oranı: %62.64\n",
            "70  GERÇEK SINIF: Saglam | TAHMİN EDİLEN: Saglam . Doğruluk Oranı: %73.49\n",
            "71  GERÇEK SINIF: Saglam | TAHMİN EDİLEN: Saglam . Doğruluk Oranı: %89.64\n",
            "72  GERÇEK SINIF: Saglam | TAHMİN EDİLEN: Saglam . Doğruluk Oranı: %88.96\n",
            "73  GERÇEK SINIF: Saglam | TAHMİN EDİLEN: Kirik . Doğruluk Oranı: %55.84\n",
            "74  GERÇEK SINIF: Saglam | TAHMİN EDİLEN: Saglam . Doğruluk Oranı: %86.09\n",
            "75  GERÇEK SINIF: Saglam | TAHMİN EDİLEN: Saglam . Doğruluk Oranı: %82.81\n",
            "76  GERÇEK SINIF: Saglam | TAHMİN EDİLEN: Saglam . Doğruluk Oranı: %74.49\n",
            "77  GERÇEK SINIF: Saglam | TAHMİN EDİLEN: Saglam . Doğruluk Oranı: %70.85\n",
            "78  GERÇEK SINIF: Saglam | TAHMİN EDİLEN: Saglam . Doğruluk Oranı: %70.63\n",
            "79  GERÇEK SINIF: Saglam | TAHMİN EDİLEN: Saglam . Doğruluk Oranı: %88.84\n",
            "80  GERÇEK SINIF: Saglam | TAHMİN EDİLEN: Saglam . Doğruluk Oranı: %69.55\n",
            "81  GERÇEK SINIF: Saglam | TAHMİN EDİLEN: Saglam . Doğruluk Oranı: %89.35\n",
            "82  GERÇEK SINIF: Saglam | TAHMİN EDİLEN: Kirik . Doğruluk Oranı: %72.05\n",
            "83  GERÇEK SINIF: Saglam | TAHMİN EDİLEN: Saglam . Doğruluk Oranı: %67.99\n",
            "84  GERÇEK SINIF: Saglam | TAHMİN EDİLEN: Saglam . Doğruluk Oranı: %91.01\n",
            "85  GERÇEK SINIF: Saglam | TAHMİN EDİLEN: Kirik . Doğruluk Oranı: %69.74\n",
            "86  GERÇEK SINIF: Saglam | TAHMİN EDİLEN: Saglam . Doğruluk Oranı: %73.90\n",
            "87  GERÇEK SINIF: Saglam | TAHMİN EDİLEN: Kirik . Doğruluk Oranı: %59.53\n",
            "88  GERÇEK SINIF: Saglam | TAHMİN EDİLEN: Saglam . Doğruluk Oranı: %91.13\n",
            "89  GERÇEK SINIF: Saglam | TAHMİN EDİLEN: Saglam . Doğruluk Oranı: %92.71\n",
            "90  GERÇEK SINIF: Saglam | TAHMİN EDİLEN: Saglam . Doğruluk Oranı: %67.02\n",
            "91  GERÇEK SINIF: Saglam | TAHMİN EDİLEN: Saglam . Doğruluk Oranı: %82.37\n",
            "------------------------------------------------------------------------------------------\n",
            "1  GERÇEK SINIF: Kirik | TAHMİN EDİLEN: Kirik . Doğruluk Oranı: %77.16\n",
            "2  GERÇEK SINIF: Kirik | TAHMİN EDİLEN: Saglam . Doğruluk Oranı: %66.53\n",
            "3  GERÇEK SINIF: Kirik | TAHMİN EDİLEN: Kirik . Doğruluk Oranı: %89.94\n",
            "4  GERÇEK SINIF: Kirik | TAHMİN EDİLEN: Kirik . Doğruluk Oranı: %76.02\n",
            "5  GERÇEK SINIF: Kirik | TAHMİN EDİLEN: Saglam . Doğruluk Oranı: %73.48\n",
            "6  GERÇEK SINIF: Kirik | TAHMİN EDİLEN: Saglam . Doğruluk Oranı: %75.28\n",
            "7  GERÇEK SINIF: Kirik | TAHMİN EDİLEN: Saglam . Doğruluk Oranı: %73.35\n",
            "8  GERÇEK SINIF: Kirik | TAHMİN EDİLEN: Saglam . Doğruluk Oranı: %61.37\n",
            "9  GERÇEK SINIF: Kirik | TAHMİN EDİLEN: Saglam . Doğruluk Oranı: %82.36\n",
            "10  GERÇEK SINIF: Kirik | TAHMİN EDİLEN: Saglam . Doğruluk Oranı: %59.03\n",
            "11  GERÇEK SINIF: Kirik | TAHMİN EDİLEN: Saglam . Doğruluk Oranı: %63.42\n",
            "12  GERÇEK SINIF: Kirik | TAHMİN EDİLEN: Saglam . Doğruluk Oranı: %60.03\n",
            "13  GERÇEK SINIF: Kirik | TAHMİN EDİLEN: Kirik . Doğruluk Oranı: %71.91\n",
            "14  GERÇEK SINIF: Kirik | TAHMİN EDİLEN: Kirik . Doğruluk Oranı: %76.98\n",
            "15  GERÇEK SINIF: Kirik | TAHMİN EDİLEN: Saglam . Doğruluk Oranı: %83.46\n",
            "16  GERÇEK SINIF: Kirik | TAHMİN EDİLEN: Saglam . Doğruluk Oranı: %78.95\n",
            "17  GERÇEK SINIF: Kirik | TAHMİN EDİLEN: Kirik . Doğruluk Oranı: %83.89\n",
            "18  GERÇEK SINIF: Kirik | TAHMİN EDİLEN: Saglam . Doğruluk Oranı: %83.83\n",
            "19  GERÇEK SINIF: Kirik | TAHMİN EDİLEN: Saglam . Doğruluk Oranı: %72.59\n",
            "20  GERÇEK SINIF: Kirik | TAHMİN EDİLEN: Kirik . Doğruluk Oranı: %51.30\n",
            "21  GERÇEK SINIF: Kirik | TAHMİN EDİLEN: Kirik . Doğruluk Oranı: %85.54\n",
            "22  GERÇEK SINIF: Kirik | TAHMİN EDİLEN: Saglam . Doğruluk Oranı: %59.62\n",
            "23  GERÇEK SINIF: Kirik | TAHMİN EDİLEN: Kirik . Doğruluk Oranı: %63.23\n",
            "24  GERÇEK SINIF: Kirik | TAHMİN EDİLEN: Kirik . Doğruluk Oranı: %73.11\n",
            "25  GERÇEK SINIF: Kirik | TAHMİN EDİLEN: Kirik . Doğruluk Oranı: %91.08\n",
            "26  GERÇEK SINIF: Kirik | TAHMİN EDİLEN: Kirik . Doğruluk Oranı: %60.83\n",
            "27  GERÇEK SINIF: Kirik | TAHMİN EDİLEN: Kirik . Doğruluk Oranı: %73.61\n",
            "28  GERÇEK SINIF: Kirik | TAHMİN EDİLEN: Kirik . Doğruluk Oranı: %67.31\n",
            "29  GERÇEK SINIF: Kirik | TAHMİN EDİLEN: Kirik . Doğruluk Oranı: %81.27\n",
            "30  GERÇEK SINIF: Kirik | TAHMİN EDİLEN: Kirik . Doğruluk Oranı: %95.79\n",
            "31  GERÇEK SINIF: Kirik | TAHMİN EDİLEN: Kirik . Doğruluk Oranı: %59.31\n",
            "32  GERÇEK SINIF: Kirik | TAHMİN EDİLEN: Saglam . Doğruluk Oranı: %57.72\n",
            "33  GERÇEK SINIF: Kirik | TAHMİN EDİLEN: Kirik . Doğruluk Oranı: %68.02\n",
            "34  GERÇEK SINIF: Kirik | TAHMİN EDİLEN: Saglam . Doğruluk Oranı: %51.49\n",
            "35  GERÇEK SINIF: Kirik | TAHMİN EDİLEN: Saglam . Doğruluk Oranı: %68.62\n",
            "36  GERÇEK SINIF: Kirik | TAHMİN EDİLEN: Saglam . Doğruluk Oranı: %50.86\n",
            "37  GERÇEK SINIF: Kirik | TAHMİN EDİLEN: Kirik . Doğruluk Oranı: %53.83\n",
            "38  GERÇEK SINIF: Kirik | TAHMİN EDİLEN: Saglam . Doğruluk Oranı: %65.41\n",
            "39  GERÇEK SINIF: Kirik | TAHMİN EDİLEN: Saglam . Doğruluk Oranı: %59.53\n",
            "40  GERÇEK SINIF: Kirik | TAHMİN EDİLEN: Saglam . Doğruluk Oranı: %79.57\n",
            "41  GERÇEK SINIF: Kirik | TAHMİN EDİLEN: Saglam . Doğruluk Oranı: %53.23\n",
            "42  GERÇEK SINIF: Kirik | TAHMİN EDİLEN: Saglam . Doğruluk Oranı: %58.05\n",
            "43  GERÇEK SINIF: Kirik | TAHMİN EDİLEN: Kirik . Doğruluk Oranı: %70.26\n",
            "44  GERÇEK SINIF: Kirik | TAHMİN EDİLEN: Saglam . Doğruluk Oranı: %51.42\n",
            "45  GERÇEK SINIF: Kirik | TAHMİN EDİLEN: Saglam . Doğruluk Oranı: %72.88\n",
            "46  GERÇEK SINIF: Kirik | TAHMİN EDİLEN: Saglam . Doğruluk Oranı: %57.87\n",
            "47  GERÇEK SINIF: Kirik | TAHMİN EDİLEN: Kirik . Doğruluk Oranı: %72.32\n",
            "48  GERÇEK SINIF: Kirik | TAHMİN EDİLEN: Kirik . Doğruluk Oranı: %55.74\n",
            "49  GERÇEK SINIF: Kirik | TAHMİN EDİLEN: Kirik . Doğruluk Oranı: %69.44\n",
            "50  GERÇEK SINIF: Kirik | TAHMİN EDİLEN: Kirik . Doğruluk Oranı: %88.82\n",
            "51  GERÇEK SINIF: Kirik | TAHMİN EDİLEN: Kirik . Doğruluk Oranı: %77.87\n",
            "52  GERÇEK SINIF: Kirik | TAHMİN EDİLEN: Kirik . Doğruluk Oranı: %70.44\n",
            "53  GERÇEK SINIF: Kirik | TAHMİN EDİLEN: Kirik . Doğruluk Oranı: %62.77\n",
            "54  GERÇEK SINIF: Kirik | TAHMİN EDİLEN: Kirik . Doğruluk Oranı: %77.10\n",
            "55  GERÇEK SINIF: Kirik | TAHMİN EDİLEN: Kirik . Doğruluk Oranı: %73.69\n",
            "56  GERÇEK SINIF: Kirik | TAHMİN EDİLEN: Kirik . Doğruluk Oranı: %75.66\n",
            "57  GERÇEK SINIF: Kirik | TAHMİN EDİLEN: Kirik . Doğruluk Oranı: %70.02\n",
            "58  GERÇEK SINIF: Kirik | TAHMİN EDİLEN: Kirik . Doğruluk Oranı: %65.31\n",
            "59  GERÇEK SINIF: Kirik | TAHMİN EDİLEN: Kirik . Doğruluk Oranı: %69.11\n",
            "60  GERÇEK SINIF: Kirik | TAHMİN EDİLEN: Kirik . Doğruluk Oranı: %61.32\n",
            "61  GERÇEK SINIF: Kirik | TAHMİN EDİLEN: Kirik . Doğruluk Oranı: %55.39\n",
            "62  GERÇEK SINIF: Kirik | TAHMİN EDİLEN: Kirik . Doğruluk Oranı: %87.64\n",
            "63  GERÇEK SINIF: Kirik | TAHMİN EDİLEN: Kirik . Doğruluk Oranı: %62.54\n",
            "64  GERÇEK SINIF: Kirik | TAHMİN EDİLEN: Kirik . Doğruluk Oranı: %70.63\n",
            "65  GERÇEK SINIF: Kirik | TAHMİN EDİLEN: Kirik . Doğruluk Oranı: %62.42\n",
            "66  GERÇEK SINIF: Kirik | TAHMİN EDİLEN: Kirik . Doğruluk Oranı: %62.81\n",
            "67  GERÇEK SINIF: Kirik | TAHMİN EDİLEN: Kirik . Doğruluk Oranı: %65.86\n",
            "68  GERÇEK SINIF: Kirik | TAHMİN EDİLEN: Kirik . Doğruluk Oranı: %55.33\n",
            "69  GERÇEK SINIF: Kirik | TAHMİN EDİLEN: Saglam . Doğruluk Oranı: %57.60\n",
            "70  GERÇEK SINIF: Kirik | TAHMİN EDİLEN: Kirik . Doğruluk Oranı: %73.44\n",
            "71  GERÇEK SINIF: Kirik | TAHMİN EDİLEN: Kirik . Doğruluk Oranı: %54.87\n",
            "72  GERÇEK SINIF: Kirik | TAHMİN EDİLEN: Kirik . Doğruluk Oranı: %75.46\n",
            "73  GERÇEK SINIF: Kirik | TAHMİN EDİLEN: Kirik . Doğruluk Oranı: %63.03\n",
            "74  GERÇEK SINIF: Kirik | TAHMİN EDİLEN: Kirik . Doğruluk Oranı: %64.36\n",
            "75  GERÇEK SINIF: Kirik | TAHMİN EDİLEN: Kirik . Doğruluk Oranı: %72.62\n",
            "76  GERÇEK SINIF: Kirik | TAHMİN EDİLEN: Kirik . Doğruluk Oranı: %77.15\n",
            "77  GERÇEK SINIF: Kirik | TAHMİN EDİLEN: Kirik . Doğruluk Oranı: %73.47\n",
            "78  GERÇEK SINIF: Kirik | TAHMİN EDİLEN: Kirik . Doğruluk Oranı: %56.35\n",
            "79  GERÇEK SINIF: Kirik | TAHMİN EDİLEN: Kirik . Doğruluk Oranı: %61.91\n",
            "80  GERÇEK SINIF: Kirik | TAHMİN EDİLEN: Kirik . Doğruluk Oranı: %74.04\n",
            "81  GERÇEK SINIF: Kirik | TAHMİN EDİLEN: Kirik . Doğruluk Oranı: %55.84\n",
            "82  GERÇEK SINIF: Kirik | TAHMİN EDİLEN: Saglam . Doğruluk Oranı: %78.64\n",
            "83  GERÇEK SINIF: Kirik | TAHMİN EDİLEN: Saglam . Doğruluk Oranı: %52.15\n",
            "84  GERÇEK SINIF: Kirik | TAHMİN EDİLEN: Kirik . Doğruluk Oranı: %67.38\n",
            "85  GERÇEK SINIF: Kirik | TAHMİN EDİLEN: Saglam . Doğruluk Oranı: %80.16\n",
            "86  GERÇEK SINIF: Kirik | TAHMİN EDİLEN: Kirik . Doğruluk Oranı: %66.17\n",
            "87  GERÇEK SINIF: Kirik | TAHMİN EDİLEN: Kirik . Doğruluk Oranı: %56.23\n",
            "88  GERÇEK SINIF: Kirik | TAHMİN EDİLEN: Saglam . Doğruluk Oranı: %80.01\n",
            "89  GERÇEK SINIF: Kirik | TAHMİN EDİLEN: Saglam . Doğruluk Oranı: %80.84\n",
            "90  GERÇEK SINIF: Kirik | TAHMİN EDİLEN: Saglam . Doğruluk Oranı: %74.81\n",
            "91  GERÇEK SINIF: Kirik | TAHMİN EDİLEN: Saglam . Doğruluk Oranı: %72.90\n",
            "92  GERÇEK SINIF: Kirik | TAHMİN EDİLEN: Kirik . Doğruluk Oranı: %57.11\n",
            "93  GERÇEK SINIF: Kirik | TAHMİN EDİLEN: Saglam . Doğruluk Oranı: %75.27\n",
            "94  GERÇEK SINIF: Kirik | TAHMİN EDİLEN: Kirik . Doğruluk Oranı: %67.98\n",
            "95  GERÇEK SINIF: Kirik | TAHMİN EDİLEN: Kirik . Doğruluk Oranı: %65.94\n",
            "96  GERÇEK SINIF: Kirik | TAHMİN EDİLEN: Kirik . Doğruluk Oranı: %67.76\n",
            "97  GERÇEK SINIF: Kirik | TAHMİN EDİLEN: Kirik . Doğruluk Oranı: %70.94\n",
            "98  GERÇEK SINIF: Kirik | TAHMİN EDİLEN: Kirik . Doğruluk Oranı: %93.31\n",
            "99  GERÇEK SINIF: Kirik | TAHMİN EDİLEN: Kirik . Doğruluk Oranı: %50.08\n"
          ]
        }
      ],
      "source": [
        "# Test klasöründeki tüm dosyaları okuyup tahmin edelim...\n",
        "saglam_test_imgeleri = listdir(\"/content/drive/My Drive/Piton_Uygulamalarim/test/t_saglam/\")\n",
        "kirik_test_imgeleri = listdir(\"/content/drive/My Drive/Piton_Uygulamalarim/test/t_kirik/\")\n",
        "\n",
        "sSay = kSay = 1\n",
        "\n",
        "for s_img in saglam_test_imgeleri:\n",
        "  print(sSay, \" \", end=\"\")\n",
        "  tahmin(\"t_saglam/\" + s_img, \"Saglam\")\n",
        "  sSay += 1\n",
        "\n",
        "print(90 * \"-\")\n",
        "\n",
        "for k_img in kirik_test_imgeleri:\n",
        "  print(kSay, \" \", end=\"\")\n",
        "  tahmin(\"t_kirik/\" + k_img, \"Kirik\")\n",
        "  kSay += 1\n",
        "\n"
      ]
    },
    {
      "cell_type": "code",
      "execution_count": null,
      "metadata": {
        "id": "WF1wm5lm7hf_"
      },
      "outputs": [],
      "source": [
        ""
      ]
    }
  ],
  "metadata": {
    "colab": {
      "collapsed_sections": [],
      "name": "ymt579_final.ipynb",
      "provenance": []
    },
    "kernelspec": {
      "display_name": "Python 3",
      "name": "python3"
    },
    "language_info": {
      "name": "python"
    }
  },
  "nbformat": 4,
  "nbformat_minor": 0
}